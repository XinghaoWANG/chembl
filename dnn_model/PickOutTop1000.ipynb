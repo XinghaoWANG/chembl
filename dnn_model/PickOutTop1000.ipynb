{
 "cells": [
  {
   "cell_type": "code",
   "execution_count": 1,
   "metadata": {
    "collapsed": true
   },
   "outputs": [],
   "source": [
    "import pandas as pd\n",
    "from rdkit import Chem\n",
    "from rdkit.Chem import Draw"
   ]
  },
  {
   "cell_type": "code",
   "execution_count": 20,
   "metadata": {
    "collapsed": true
   },
   "outputs": [],
   "source": [
    "from rdkit.Chem.Draw import IPythonConsole"
   ]
  },
  {
   "cell_type": "code",
   "execution_count": 2,
   "metadata": {
    "collapsed": true
   },
   "outputs": [],
   "source": [
    "target_list = [\"CHEMBL203\", \"CHEMBL204\", \"CHEMBL235\", \"CHEMBL236\", \n",
    "               \"CHEMBL244\", \"CHEMBL260\", \"CHEMBL4805\", \"CHEMBL4822\"]"
   ]
  },
  {
   "cell_type": "code",
   "execution_count": 3,
   "metadata": {
    "collapsed": true
   },
   "outputs": [],
   "source": [
    "ChemDiv_dir = \"/raid/xiaotaw/ChemDiv/\"\n",
    "fn_list = [\"DC01_350000.sdf\", \"DC02_350000.sdf\", \n",
    "           \"DC03_222773.sdf\", \"DC_saltdata_not-available_124145.sdf\", \n",
    "           \"IC_non-excl_82693.sdf\", \"NC_340320.sdf\"]\n",
    "#sup0 = Chem.SDMolSupplier(ChemDiv_dir + fn_list[0])\n",
    "#ms0 = [x for x in sup0 if x is not None]"
   ]
  },
  {
   "cell_type": "code",
   "execution_count": 4,
   "metadata": {
    "collapsed": true
   },
   "outputs": [],
   "source": [
    "#sup1 = Chem.SDMolSupplier(ChemDiv_dir + fn_list[1])\n",
    "#ms1 = [x for x in sup1 if x is not None]\n",
    "#sup2 = Chem.SDMolSupplier(ChemDiv_dir + fn_list[2])\n",
    "#ms2 = [x for x in sup2 if x is not None]"
   ]
  },
  {
   "cell_type": "code",
   "execution_count": 46,
   "metadata": {
    "collapsed": false
   },
   "outputs": [],
   "source": [
    "target = target_list[0]\n",
    "target = \"CHEMBL267\"\n",
    "pred_dir = \"/home/scw4750/Documents/chembl/dnn_model/pred_files/%s/\" % target\n",
    "pred_fn = pred_dir + \"vs_chemdiv_%s_128_0.800_4.000e-03_2247900.pred1000\" % target\n",
    "chemdiv_pred = pd.read_csv(pred_fn, sep=\"\\t\", index_col=0, names=[\"id\", \"pred\"])\n",
    "#chemdiv_pred\n",
    "id_list = chemdiv_pred[\"id\"].values\n",
    "#id_list"
   ]
  },
  {
   "cell_type": "code",
   "execution_count": 47,
   "metadata": {
    "collapsed": false
   },
   "outputs": [
    {
     "name": "stdout",
     "output_type": "stream",
     "text": [
      "start DC01_350000.sdf\n",
      "finished DC01_350000.sdf\n",
      "start DC02_350000.sdf\n",
      "finished DC02_350000.sdf\n",
      "start DC03_222773.sdf\n",
      "finished DC03_222773.sdf\n",
      "start DC_saltdata_not-available_124145.sdf\n",
      "finished DC_saltdata_not-available_124145.sdf\n",
      "start IC_non-excl_82693.sdf\n",
      "finished IC_non-excl_82693.sdf\n",
      "start NC_340320.sdf\n",
      "finished NC_340320.sdf\n"
     ]
    }
   ],
   "source": [
    "m1000 = []\n",
    "for fn in fn_list:\n",
    "    print(\"start %s\" % fn)\n",
    "    sup = Chem.SDMolSupplier(ChemDiv_dir + fn)\n",
    "    for m in sup:\n",
    "        if (m is not None) and (m.GetProp(\"IDNUMBER\") in id_list):\n",
    "            m1000.append(m)\n",
    "            #print(m.GetProp(\"IDNUMBER\"))        \n",
    "    print(\"finished %s\" % fn)"
   ]
  },
  {
   "cell_type": "code",
   "execution_count": 48,
   "metadata": {
    "collapsed": false
   },
   "outputs": [],
   "source": [
    "def get_pred_value(id_):\n",
    "  return chemdiv_pred[\"pred\"][chemdiv_pred[\"id\"] == id_].values[0]\n",
    "\n",
    "m1000.sort(key=lambda x: get_pred_value(x.GetProp(\"IDNUMBER\")), reverse=True)"
   ]
  },
  {
   "cell_type": "code",
   "execution_count": 49,
   "metadata": {
    "collapsed": false
   },
   "outputs": [],
   "source": [
    "writer = Chem.SDWriter(pred_fn.replace(\".pred1000\", \"_top1000.sdf\"))\n",
    "for m in m1000:\n",
    "    writer.write(m)\n",
    "    "
   ]
  },
  {
   "cell_type": "code",
   "execution_count": null,
   "metadata": {
    "collapsed": true
   },
   "outputs": [],
   "source": []
  },
  {
   "cell_type": "code",
   "execution_count": 58,
   "metadata": {
    "collapsed": false
   },
   "outputs": [
    {
     "data": {
      "image/png": "[encoded data removed]",
      "text/plain": [
       "<rdkit.Chem.rdchem.Mol at 0x7ffb18ea3050>"
      ]
     },
     "execution_count": 58,
     "metadata": {},
     "output_type": "execute_result"
    }
   ],
   "source": [
    "m1000[6]"
   ]
  },
  {
   "cell_type": "code",
   "execution_count": null,
   "metadata": {
    "collapsed": true
   },
   "outputs": [],
   "source": []
  },
  {
   "cell_type": "code",
   "execution_count": 60,
   "metadata": {
    "collapsed": true
   },
   "outputs": [],
   "source": [
    "import glob\n",
    "import pandas as pd "
   ]
  },
  {
   "cell_type": "code",
   "execution_count": 215,
   "metadata": {
    "collapsed": false
   },
   "outputs": [],
   "source": [
    "def get_ids(target=\"CHEMBL203\", top=1000):\n",
    "    fn = glob.glob(\"pred_files/%s/vs_chemdiv_*.pred1000\" % target)[0]\n",
    "    df = pd.read_csv(fn, sep=\"\\t\", header=None, names=[\"none\", \"id\", target+\"_pred\"], index_col=0, usecols=[1, 2])\n",
    "    df[target+\"_index\"] = range(1000)\n",
    "    fn = glob.glob(\"pred_files/%s/vs_chemdiv_*top1000.sdf\" % target)[0]\n",
    "    suppl = Chem.SDMolSupplier(fn)\n",
    "    for m in suppl:\n",
    "        if m.HasProp(\"IDNUMBER\"):\n",
    "            df.loc[m.GetProp(\"IDNUMBER\"), \"mol\"] = m\n",
    "    return df.reset_index()"
   ]
  },
  {
   "cell_type": "code",
   "execution_count": 216,
   "metadata": {
    "collapsed": false,
    "scrolled": true
   },
   "outputs": [],
   "source": [
    "a = get_ids(\"CHEMBL203\")\n",
    "b = get_ids(\"CHEMBL267\")\n",
    "c = get_ids(\"CHEMBL279\")"
   ]
  },
  {
   "cell_type": "code",
   "execution_count": 192,
   "metadata": {
    "collapsed": false,
    "scrolled": true
   },
   "outputs": [
    {
     "data": {
      "text/html": [
       "<div>\n",
       "<table border=\"1\" class=\"dataframe\">\n",
       "  <thead>\n",
       "    <tr style=\"text-align: right;\">\n",
       "      <th></th>\n",
       "      <th>id</th>\n",
       "      <th>CHEMBL203_pred</th>\n",
       "      <th>CHEMBL203_index</th>\n",
       "      <th>mol_x</th>\n",
       "      <th>CHEMBL279_pred</th>\n",
       "      <th>CHEMBL279_index</th>\n",
       "      <th>mol_y</th>\n",
       "    </tr>\n",
       "  </thead>\n",
       "  <tbody>\n",
       "    <tr>\n",
       "      <th>0</th>\n",
       "      <td>3486-0358</td>\n",
       "      <td>0.431300</td>\n",
       "      <td>3</td>\n",
       "      <td>&lt;rdkit.Chem.rdchem.Mol object at 0x7ffb18a4e6e0&gt;</td>\n",
       "      <td>0.105957</td>\n",
       "      <td>469</td>\n",
       "      <td>&lt;rdkit.Chem.rdchem.Mol object at 0x7ffb18a87280&gt;</td>\n",
       "    </tr>\n",
       "    <tr>\n",
       "      <th>1</th>\n",
       "      <td>C066-4881</td>\n",
       "      <td>0.361765</td>\n",
       "      <td>10</td>\n",
       "      <td>&lt;rdkit.Chem.rdchem.Mol object at 0x7ffb18a4e9f0&gt;</td>\n",
       "      <td>0.178109</td>\n",
       "      <td>188</td>\n",
       "      <td>&lt;rdkit.Chem.rdchem.Mol object at 0x7ffb18a96590&gt;</td>\n",
       "    </tr>\n",
       "    <tr>\n",
       "      <th>2</th>\n",
       "      <td>G887-0362</td>\n",
       "      <td>0.299174</td>\n",
       "      <td>24</td>\n",
       "      <td>&lt;rdkit.Chem.rdchem.Mol object at 0x7ffb189e7050&gt;</td>\n",
       "      <td>0.099344</td>\n",
       "      <td>514</td>\n",
       "      <td>&lt;rdkit.Chem.rdchem.Mol object at 0x7ffb18a8d670&gt;</td>\n",
       "    </tr>\n",
       "    <tr>\n",
       "      <th>3</th>\n",
       "      <td>3486-0421</td>\n",
       "      <td>0.291748</td>\n",
       "      <td>32</td>\n",
       "      <td>&lt;rdkit.Chem.rdchem.Mol object at 0x7ffb189e73d0&gt;</td>\n",
       "      <td>0.137190</td>\n",
       "      <td>298</td>\n",
       "      <td>&lt;rdkit.Chem.rdchem.Mol object at 0x7ffb18a97670&gt;</td>\n",
       "    </tr>\n",
       "    <tr>\n",
       "      <th>4</th>\n",
       "      <td>G887-0379</td>\n",
       "      <td>0.262502</td>\n",
       "      <td>55</td>\n",
       "      <td>&lt;rdkit.Chem.rdchem.Mol object at 0x7ffb189e7de0&gt;</td>\n",
       "      <td>0.064254</td>\n",
       "      <td>993</td>\n",
       "      <td>&lt;rdkit.Chem.rdchem.Mol object at 0x7ffb18a73b40&gt;</td>\n",
       "    </tr>\n",
       "    <tr>\n",
       "      <th>5</th>\n",
       "      <td>K405-2625</td>\n",
       "      <td>0.219095</td>\n",
       "      <td>121</td>\n",
       "      <td>&lt;rdkit.Chem.rdchem.Mol object at 0x7ffb189b9b40&gt;</td>\n",
       "      <td>0.065322</td>\n",
       "      <td>965</td>\n",
       "      <td>&lt;rdkit.Chem.rdchem.Mol object at 0x7ffb18a78ec0&gt;</td>\n",
       "    </tr>\n",
       "    <tr>\n",
       "      <th>6</th>\n",
       "      <td>C431-0049</td>\n",
       "      <td>0.216677</td>\n",
       "      <td>127</td>\n",
       "      <td>&lt;rdkit.Chem.rdchem.Mol object at 0x7ffb189b9de0&gt;</td>\n",
       "      <td>0.258393</td>\n",
       "      <td>103</td>\n",
       "      <td>&lt;rdkit.Chem.rdchem.Mol object at 0x7ffb189e1fa0&gt;</td>\n",
       "    </tr>\n",
       "    <tr>\n",
       "      <th>7</th>\n",
       "      <td>3486-0393</td>\n",
       "      <td>0.186619</td>\n",
       "      <td>189</td>\n",
       "      <td>&lt;rdkit.Chem.rdchem.Mol object at 0x7ffb189c3980&gt;</td>\n",
       "      <td>0.077227</td>\n",
       "      <td>767</td>\n",
       "      <td>&lt;rdkit.Chem.rdchem.Mol object at 0x7ffb18aa66e0&gt;</td>\n",
       "    </tr>\n",
       "    <tr>\n",
       "      <th>8</th>\n",
       "      <td>G887-0295</td>\n",
       "      <td>0.163087</td>\n",
       "      <td>274</td>\n",
       "      <td>&lt;rdkit.Chem.rdchem.Mol object at 0x7ffb189cef30&gt;</td>\n",
       "      <td>0.095529</td>\n",
       "      <td>539</td>\n",
       "      <td>&lt;rdkit.Chem.rdchem.Mol object at 0x7ffb18a981a0&gt;</td>\n",
       "    </tr>\n",
       "    <tr>\n",
       "      <th>9</th>\n",
       "      <td>S538-0617</td>\n",
       "      <td>0.148430</td>\n",
       "      <td>339</td>\n",
       "      <td>&lt;rdkit.Chem.rdchem.Mol object at 0x7ffb189dec20&gt;</td>\n",
       "      <td>0.069567</td>\n",
       "      <td>886</td>\n",
       "      <td>&lt;rdkit.Chem.rdchem.Mol object at 0x7ffb18a71bb0&gt;</td>\n",
       "    </tr>\n",
       "    <tr>\n",
       "      <th>10</th>\n",
       "      <td>S538-0920</td>\n",
       "      <td>0.148085</td>\n",
       "      <td>340</td>\n",
       "      <td>&lt;rdkit.Chem.rdchem.Mol object at 0x7ffb189dec90&gt;</td>\n",
       "      <td>0.113681</td>\n",
       "      <td>416</td>\n",
       "      <td>&lt;rdkit.Chem.rdchem.Mol object at 0x7ffb18a7ead0&gt;</td>\n",
       "    </tr>\n",
       "    <tr>\n",
       "      <th>11</th>\n",
       "      <td>3486-0368</td>\n",
       "      <td>0.142170</td>\n",
       "      <td>372</td>\n",
       "      <td>&lt;rdkit.Chem.rdchem.Mol object at 0x7ffb189e6ad0&gt;</td>\n",
       "      <td>0.074472</td>\n",
       "      <td>808</td>\n",
       "      <td>&lt;rdkit.Chem.rdchem.Mol object at 0x7ffb18a91910&gt;</td>\n",
       "    </tr>\n",
       "    <tr>\n",
       "      <th>12</th>\n",
       "      <td>F173-0035</td>\n",
       "      <td>0.135746</td>\n",
       "      <td>414</td>\n",
       "      <td>&lt;rdkit.Chem.rdchem.Mol object at 0x7ffb189d8d70&gt;</td>\n",
       "      <td>0.083552</td>\n",
       "      <td>672</td>\n",
       "      <td>&lt;rdkit.Chem.rdchem.Mol object at 0x7ffb18aa0c90&gt;</td>\n",
       "    </tr>\n",
       "    <tr>\n",
       "      <th>13</th>\n",
       "      <td>H024-0410F</td>\n",
       "      <td>0.132401</td>\n",
       "      <td>435</td>\n",
       "      <td>&lt;rdkit.Chem.rdchem.Mol object at 0x7ffb189bf6e0&gt;</td>\n",
       "      <td>0.613138</td>\n",
       "      <td>22</td>\n",
       "      <td>&lt;rdkit.Chem.rdchem.Mol object at 0x7ffb189babb0&gt;</td>\n",
       "    </tr>\n",
       "    <tr>\n",
       "      <th>14</th>\n",
       "      <td>F173-0138</td>\n",
       "      <td>0.119737</td>\n",
       "      <td>552</td>\n",
       "      <td>&lt;rdkit.Chem.rdchem.Mol object at 0x7ffb189daad0&gt;</td>\n",
       "      <td>0.091560</td>\n",
       "      <td>578</td>\n",
       "      <td>&lt;rdkit.Chem.rdchem.Mol object at 0x7ffb18a8e2f0&gt;</td>\n",
       "    </tr>\n",
       "    <tr>\n",
       "      <th>15</th>\n",
       "      <td>G818-0014</td>\n",
       "      <td>0.119420</td>\n",
       "      <td>555</td>\n",
       "      <td>&lt;rdkit.Chem.rdchem.Mol object at 0x7ffb189dac20&gt;</td>\n",
       "      <td>0.092198</td>\n",
       "      <td>568</td>\n",
       "      <td>&lt;rdkit.Chem.rdchem.Mol object at 0x7ffb18a98e50&gt;</td>\n",
       "    </tr>\n",
       "    <tr>\n",
       "      <th>16</th>\n",
       "      <td>K905-0243</td>\n",
       "      <td>0.109851</td>\n",
       "      <td>665</td>\n",
       "      <td>&lt;rdkit.Chem.rdchem.Mol object at 0x7ffb189e3d00&gt;</td>\n",
       "      <td>0.145087</td>\n",
       "      <td>269</td>\n",
       "      <td>&lt;rdkit.Chem.rdchem.Mol object at 0x7ffb18a7b980&gt;</td>\n",
       "    </tr>\n",
       "    <tr>\n",
       "      <th>17</th>\n",
       "      <td>3909-8852</td>\n",
       "      <td>0.098246</td>\n",
       "      <td>827</td>\n",
       "      <td>&lt;rdkit.Chem.rdchem.Mol object at 0x7ffb189e5520&gt;</td>\n",
       "      <td>0.141275</td>\n",
       "      <td>283</td>\n",
       "      <td>&lt;rdkit.Chem.rdchem.Mol object at 0x7ffb18a7bfa0&gt;</td>\n",
       "    </tr>\n",
       "    <tr>\n",
       "      <th>18</th>\n",
       "      <td>S538-0232</td>\n",
       "      <td>0.092921</td>\n",
       "      <td>903</td>\n",
       "      <td>&lt;rdkit.Chem.rdchem.Mol object at 0x7ffb189b56e0&gt;</td>\n",
       "      <td>0.084122</td>\n",
       "      <td>666</td>\n",
       "      <td>&lt;rdkit.Chem.rdchem.Mol object at 0x7ffb18aa09f0&gt;</td>\n",
       "    </tr>\n",
       "    <tr>\n",
       "      <th>19</th>\n",
       "      <td>S538-0894</td>\n",
       "      <td>0.090845</td>\n",
       "      <td>947</td>\n",
       "      <td>&lt;rdkit.Chem.rdchem.Mol object at 0x7ffb189b7a60&gt;</td>\n",
       "      <td>0.103688</td>\n",
       "      <td>484</td>\n",
       "      <td>&lt;rdkit.Chem.rdchem.Mol object at 0x7ffb18a87910&gt;</td>\n",
       "    </tr>\n",
       "    <tr>\n",
       "      <th>20</th>\n",
       "      <td>G887-0084</td>\n",
       "      <td>0.090686</td>\n",
       "      <td>950</td>\n",
       "      <td>&lt;rdkit.Chem.rdchem.Mol object at 0x7ffb189b7bb0&gt;</td>\n",
       "      <td>0.104437</td>\n",
       "      <td>476</td>\n",
       "      <td>&lt;rdkit.Chem.rdchem.Mol object at 0x7ffb18a87590&gt;</td>\n",
       "    </tr>\n",
       "    <tr>\n",
       "      <th>21</th>\n",
       "      <td>3966-3055</td>\n",
       "      <td>0.089641</td>\n",
       "      <td>974</td>\n",
       "      <td>&lt;rdkit.Chem.rdchem.Mol object at 0x7ffb189b8670&gt;</td>\n",
       "      <td>0.737682</td>\n",
       "      <td>15</td>\n",
       "      <td>&lt;rdkit.Chem.rdchem.Mol object at 0x7ffb189ba8a0&gt;</td>\n",
       "    </tr>\n",
       "  </tbody>\n",
       "</table>\n",
       "</div>"
      ],
      "text/plain": [
       "            id  CHEMBL203_pred  CHEMBL203_index  \\\n",
       "0    3486-0358        0.431300                3   \n",
       "1    C066-4881        0.361765               10   \n",
       "2    G887-0362        0.299174               24   \n",
       "3    3486-0421        0.291748               32   \n",
       "4    G887-0379        0.262502               55   \n",
       "5    K405-2625        0.219095              121   \n",
       "6    C431-0049        0.216677              127   \n",
       "7    3486-0393        0.186619              189   \n",
       "8    G887-0295        0.163087              274   \n",
       "9    S538-0617        0.148430              339   \n",
       "10   S538-0920        0.148085              340   \n",
       "11   3486-0368        0.142170              372   \n",
       "12   F173-0035        0.135746              414   \n",
       "13  H024-0410F        0.132401              435   \n",
       "14   F173-0138        0.119737              552   \n",
       "15   G818-0014        0.119420              555   \n",
       "16   K905-0243        0.109851              665   \n",
       "17   3909-8852        0.098246              827   \n",
       "18   S538-0232        0.092921              903   \n",
       "19   S538-0894        0.090845              947   \n",
       "20   G887-0084        0.090686              950   \n",
       "21   3966-3055        0.089641              974   \n",
       "\n",
       "                                               mol_x  CHEMBL279_pred  \\\n",
       "0   <rdkit.Chem.rdchem.Mol object at 0x7ffb18a4e6e0>        0.105957   \n",
       "1   <rdkit.Chem.rdchem.Mol object at 0x7ffb18a4e9f0>        0.178109   \n",
       "2   <rdkit.Chem.rdchem.Mol object at 0x7ffb189e7050>        0.099344   \n",
       "3   <rdkit.Chem.rdchem.Mol object at 0x7ffb189e73d0>        0.137190   \n",
       "4   <rdkit.Chem.rdchem.Mol object at 0x7ffb189e7de0>        0.064254   \n",
       "5   <rdkit.Chem.rdchem.Mol object at 0x7ffb189b9b40>        0.065322   \n",
       "6   <rdkit.Chem.rdchem.Mol object at 0x7ffb189b9de0>        0.258393   \n",
       "7   <rdkit.Chem.rdchem.Mol object at 0x7ffb189c3980>        0.077227   \n",
       "8   <rdkit.Chem.rdchem.Mol object at 0x7ffb189cef30>        0.095529   \n",
       "9   <rdkit.Chem.rdchem.Mol object at 0x7ffb189dec20>        0.069567   \n",
       "10  <rdkit.Chem.rdchem.Mol object at 0x7ffb189dec90>        0.113681   \n",
       "11  <rdkit.Chem.rdchem.Mol object at 0x7ffb189e6ad0>        0.074472   \n",
       "12  <rdkit.Chem.rdchem.Mol object at 0x7ffb189d8d70>        0.083552   \n",
       "13  <rdkit.Chem.rdchem.Mol object at 0x7ffb189bf6e0>        0.613138   \n",
       "14  <rdkit.Chem.rdchem.Mol object at 0x7ffb189daad0>        0.091560   \n",
       "15  <rdkit.Chem.rdchem.Mol object at 0x7ffb189dac20>        0.092198   \n",
       "16  <rdkit.Chem.rdchem.Mol object at 0x7ffb189e3d00>        0.145087   \n",
       "17  <rdkit.Chem.rdchem.Mol object at 0x7ffb189e5520>        0.141275   \n",
       "18  <rdkit.Chem.rdchem.Mol object at 0x7ffb189b56e0>        0.084122   \n",
       "19  <rdkit.Chem.rdchem.Mol object at 0x7ffb189b7a60>        0.103688   \n",
       "20  <rdkit.Chem.rdchem.Mol object at 0x7ffb189b7bb0>        0.104437   \n",
       "21  <rdkit.Chem.rdchem.Mol object at 0x7ffb189b8670>        0.737682   \n",
       "\n",
       "    CHEMBL279_index                                             mol_y  \n",
       "0               469  <rdkit.Chem.rdchem.Mol object at 0x7ffb18a87280>  \n",
       "1               188  <rdkit.Chem.rdchem.Mol object at 0x7ffb18a96590>  \n",
       "2               514  <rdkit.Chem.rdchem.Mol object at 0x7ffb18a8d670>  \n",
       "3               298  <rdkit.Chem.rdchem.Mol object at 0x7ffb18a97670>  \n",
       "4               993  <rdkit.Chem.rdchem.Mol object at 0x7ffb18a73b40>  \n",
       "5               965  <rdkit.Chem.rdchem.Mol object at 0x7ffb18a78ec0>  \n",
       "6               103  <rdkit.Chem.rdchem.Mol object at 0x7ffb189e1fa0>  \n",
       "7               767  <rdkit.Chem.rdchem.Mol object at 0x7ffb18aa66e0>  \n",
       "8               539  <rdkit.Chem.rdchem.Mol object at 0x7ffb18a981a0>  \n",
       "9               886  <rdkit.Chem.rdchem.Mol object at 0x7ffb18a71bb0>  \n",
       "10              416  <rdkit.Chem.rdchem.Mol object at 0x7ffb18a7ead0>  \n",
       "11              808  <rdkit.Chem.rdchem.Mol object at 0x7ffb18a91910>  \n",
       "12              672  <rdkit.Chem.rdchem.Mol object at 0x7ffb18aa0c90>  \n",
       "13               22  <rdkit.Chem.rdchem.Mol object at 0x7ffb189babb0>  \n",
       "14              578  <rdkit.Chem.rdchem.Mol object at 0x7ffb18a8e2f0>  \n",
       "15              568  <rdkit.Chem.rdchem.Mol object at 0x7ffb18a98e50>  \n",
       "16              269  <rdkit.Chem.rdchem.Mol object at 0x7ffb18a7b980>  \n",
       "17              283  <rdkit.Chem.rdchem.Mol object at 0x7ffb18a7bfa0>  \n",
       "18              666  <rdkit.Chem.rdchem.Mol object at 0x7ffb18aa09f0>  \n",
       "19              484  <rdkit.Chem.rdchem.Mol object at 0x7ffb18a87910>  \n",
       "20              476  <rdkit.Chem.rdchem.Mol object at 0x7ffb18a87590>  \n",
       "21               15  <rdkit.Chem.rdchem.Mol object at 0x7ffb189ba8a0>  "
      ]
     },
     "execution_count": 192,
     "metadata": {},
     "output_type": "execute_result"
    }
   ],
   "source": [
    "ac = a.merge(c, on=\"id\")\n",
    "ac"
   ]
  },
  {
   "cell_type": "code",
   "execution_count": 193,
   "metadata": {
    "collapsed": false,
    "scrolled": true
   },
   "outputs": [
    {
     "data": {
      "image/png": "[encoded data removed]",
      "text/plain": [
       "<rdkit.Chem.rdchem.Mol at 0x7ffb18a4e9f0>"
      ]
     },
     "execution_count": 193,
     "metadata": {},
     "output_type": "execute_result"
    }
   ],
   "source": [
    "ac.loc[1][\"mol_x\"]"
   ]
  },
  {
   "cell_type": "code",
   "execution_count": 195,
   "metadata": {
    "collapsed": false
   },
   "outputs": [
    {
     "data": {
      "image/png": "[encoded data removed]",
      "text/plain": [
       "<rdkit.Chem.rdchem.Mol at 0x7ffb189e73d0>"
      ]
     },
     "execution_count": 195,
     "metadata": {},
     "output_type": "execute_result"
    }
   ],
   "source": [
    "ac.loc[3][\"mol_x\"]"
   ]
  },
  {
   "cell_type": "code",
   "execution_count": 196,
   "metadata": {
    "collapsed": false
   },
   "outputs": [
    {
     "data": {
      "image/png": "[encoded data removed]",
      "text/plain": [
       "<rdkit.Chem.rdchem.Mol at 0x7ffb189b9de0>"
      ]
     },
     "execution_count": 196,
     "metadata": {},
     "output_type": "execute_result"
    }
   ],
   "source": [
    "ac.loc[6][\"mol_x\"]"
   ]
  },
  {
   "cell_type": "code",
   "execution_count": 197,
   "metadata": {
    "collapsed": false
   },
   "outputs": [
    {
     "data": {
      "image/png": "[encoded data removed]",
      "text/plain": [
       "<rdkit.Chem.rdchem.Mol at 0x7ffb189bf6e0>"
      ]
     },
     "execution_count": 197,
     "metadata": {},
     "output_type": "execute_result"
    }
   ],
   "source": [
    "ac.loc[13][\"mol_x\"]"
   ]
  },
  {
   "cell_type": "code",
   "execution_count": 198,
   "metadata": {
    "collapsed": false
   },
   "outputs": [
    {
     "data": {
      "image/png": "[encoded data removed]",
      "text/plain": [
       "<rdkit.Chem.rdchem.Mol at 0x7ffb189b8670>"
      ]
     },
     "execution_count": 198,
     "metadata": {},
     "output_type": "execute_result"
    }
   ],
   "source": [
    "ac.loc[21][\"mol_x\"]"
   ]
  },
  {
   "cell_type": "code",
   "execution_count": null,
   "metadata": {
    "collapsed": true
   },
   "outputs": [],
   "source": []
  },
  {
   "cell_type": "code",
   "execution_count": 217,
   "metadata": {
    "collapsed": false
   },
   "outputs": [
    {
     "data": {
      "text/html": [
       "<div>\n",
       "<table border=\"1\" class=\"dataframe\">\n",
       "  <thead>\n",
       "    <tr style=\"text-align: right;\">\n",
       "      <th></th>\n",
       "      <th>id</th>\n",
       "      <th>CHEMBL203_pred</th>\n",
       "      <th>CHEMBL203_index</th>\n",
       "      <th>mol_x</th>\n",
       "      <th>CHEMBL267_pred</th>\n",
       "      <th>CHEMBL267_index</th>\n",
       "      <th>mol_y</th>\n",
       "    </tr>\n",
       "  </thead>\n",
       "  <tbody>\n",
       "    <tr>\n",
       "      <th>0</th>\n",
       "      <td>3486-0358</td>\n",
       "      <td>0.431300</td>\n",
       "      <td>3</td>\n",
       "      <td>&lt;rdkit.Chem.rdchem.Mol object at 0x7ffb188b7750&gt;</td>\n",
       "      <td>0.248166</td>\n",
       "      <td>357</td>\n",
       "      <td>&lt;rdkit.Chem.rdchem.Mol object at 0x7ffb189cec20&gt;</td>\n",
       "    </tr>\n",
       "    <tr>\n",
       "      <th>1</th>\n",
       "      <td>F360-0628</td>\n",
       "      <td>0.297467</td>\n",
       "      <td>27</td>\n",
       "      <td>&lt;rdkit.Chem.rdchem.Mol object at 0x7ffb188ce210&gt;</td>\n",
       "      <td>0.133103</td>\n",
       "      <td>883</td>\n",
       "      <td>&lt;rdkit.Chem.rdchem.Mol object at 0x7ffb189afc20&gt;</td>\n",
       "    </tr>\n",
       "    <tr>\n",
       "      <th>2</th>\n",
       "      <td>C431-0073</td>\n",
       "      <td>0.292120</td>\n",
       "      <td>31</td>\n",
       "      <td>&lt;rdkit.Chem.rdchem.Mol object at 0x7ffb188ce3d0&gt;</td>\n",
       "      <td>0.135970</td>\n",
       "      <td>842</td>\n",
       "      <td>&lt;rdkit.Chem.rdchem.Mol object at 0x7ffb189b09f0&gt;</td>\n",
       "    </tr>\n",
       "    <tr>\n",
       "      <th>3</th>\n",
       "      <td>3486-0421</td>\n",
       "      <td>0.291748</td>\n",
       "      <td>32</td>\n",
       "      <td>&lt;rdkit.Chem.rdchem.Mol object at 0x7ffb188ce440&gt;</td>\n",
       "      <td>0.326512</td>\n",
       "      <td>234</td>\n",
       "      <td>&lt;rdkit.Chem.rdchem.Mol object at 0x7ffb189bf520&gt;</td>\n",
       "    </tr>\n",
       "    <tr>\n",
       "      <th>4</th>\n",
       "      <td>E939-0300</td>\n",
       "      <td>0.251230</td>\n",
       "      <td>73</td>\n",
       "      <td>&lt;rdkit.Chem.rdchem.Mol object at 0x7ffb188cf670&gt;</td>\n",
       "      <td>0.209726</td>\n",
       "      <td>470</td>\n",
       "      <td>&lt;rdkit.Chem.rdchem.Mol object at 0x7ffb189e7830&gt;</td>\n",
       "    </tr>\n",
       "    <tr>\n",
       "      <th>5</th>\n",
       "      <td>F360-0672</td>\n",
       "      <td>0.241129</td>\n",
       "      <td>87</td>\n",
       "      <td>&lt;rdkit.Chem.rdchem.Mol object at 0x7ffb188cfc90&gt;</td>\n",
       "      <td>0.131491</td>\n",
       "      <td>898</td>\n",
       "      <td>&lt;rdkit.Chem.rdchem.Mol object at 0x7ffb189ad2f0&gt;</td>\n",
       "    </tr>\n",
       "    <tr>\n",
       "      <th>6</th>\n",
       "      <td>E939-0340</td>\n",
       "      <td>0.210057</td>\n",
       "      <td>140</td>\n",
       "      <td>&lt;rdkit.Chem.rdchem.Mol object at 0x7ffb188d2440&gt;</td>\n",
       "      <td>0.212946</td>\n",
       "      <td>457</td>\n",
       "      <td>&lt;rdkit.Chem.rdchem.Mol object at 0x7ffb189e7e50&gt;</td>\n",
       "    </tr>\n",
       "    <tr>\n",
       "      <th>7</th>\n",
       "      <td>C660-0700</td>\n",
       "      <td>0.204045</td>\n",
       "      <td>148</td>\n",
       "      <td>&lt;rdkit.Chem.rdchem.Mol object at 0x7ffb188d27c0&gt;</td>\n",
       "      <td>0.126321</td>\n",
       "      <td>943</td>\n",
       "      <td>&lt;rdkit.Chem.rdchem.Mol object at 0x7ffb189df6e0&gt;</td>\n",
       "    </tr>\n",
       "    <tr>\n",
       "      <th>8</th>\n",
       "      <td>F360-0648</td>\n",
       "      <td>0.197876</td>\n",
       "      <td>159</td>\n",
       "      <td>&lt;rdkit.Chem.rdchem.Mol object at 0x7ffb188d2c90&gt;</td>\n",
       "      <td>0.224320</td>\n",
       "      <td>424</td>\n",
       "      <td>&lt;rdkit.Chem.rdchem.Mol object at 0x7ffb189b9d70&gt;</td>\n",
       "    </tr>\n",
       "    <tr>\n",
       "      <th>9</th>\n",
       "      <td>E939-0417</td>\n",
       "      <td>0.196403</td>\n",
       "      <td>162</td>\n",
       "      <td>&lt;rdkit.Chem.rdchem.Mol object at 0x7ffb188d2de0&gt;</td>\n",
       "      <td>0.215093</td>\n",
       "      <td>453</td>\n",
       "      <td>&lt;rdkit.Chem.rdchem.Mol object at 0x7ffb189b9050&gt;</td>\n",
       "    </tr>\n",
       "    <tr>\n",
       "      <th>10</th>\n",
       "      <td>0132-0028</td>\n",
       "      <td>0.186825</td>\n",
       "      <td>187</td>\n",
       "      <td>&lt;rdkit.Chem.rdchem.Mol object at 0x7ffb188d3910&gt;</td>\n",
       "      <td>0.459259</td>\n",
       "      <td>136</td>\n",
       "      <td>&lt;rdkit.Chem.rdchem.Mol object at 0x7ffb189e5280&gt;</td>\n",
       "    </tr>\n",
       "    <tr>\n",
       "      <th>11</th>\n",
       "      <td>3486-0393</td>\n",
       "      <td>0.186619</td>\n",
       "      <td>189</td>\n",
       "      <td>&lt;rdkit.Chem.rdchem.Mol object at 0x7ffb188d39f0&gt;</td>\n",
       "      <td>0.163605</td>\n",
       "      <td>660</td>\n",
       "      <td>&lt;rdkit.Chem.rdchem.Mol object at 0x7ffb189b1910&gt;</td>\n",
       "    </tr>\n",
       "    <tr>\n",
       "      <th>12</th>\n",
       "      <td>F360-0650</td>\n",
       "      <td>0.183807</td>\n",
       "      <td>200</td>\n",
       "      <td>&lt;rdkit.Chem.rdchem.Mol object at 0x7ffb188d3ec0&gt;</td>\n",
       "      <td>0.201038</td>\n",
       "      <td>497</td>\n",
       "      <td>&lt;rdkit.Chem.rdchem.Mol object at 0x7ffb18a4eb40&gt;</td>\n",
       "    </tr>\n",
       "    <tr>\n",
       "      <th>13</th>\n",
       "      <td>E939-0420</td>\n",
       "      <td>0.159231</td>\n",
       "      <td>287</td>\n",
       "      <td>&lt;rdkit.Chem.rdchem.Mol object at 0x7ffb188d9590&gt;</td>\n",
       "      <td>0.145288</td>\n",
       "      <td>771</td>\n",
       "      <td>&lt;rdkit.Chem.rdchem.Mol object at 0x7ffb189d2a60&gt;</td>\n",
       "    </tr>\n",
       "    <tr>\n",
       "      <th>14</th>\n",
       "      <td>F360-0180</td>\n",
       "      <td>0.151201</td>\n",
       "      <td>325</td>\n",
       "      <td>&lt;rdkit.Chem.rdchem.Mol object at 0x7ffb188da670&gt;</td>\n",
       "      <td>0.188800</td>\n",
       "      <td>535</td>\n",
       "      <td>&lt;rdkit.Chem.rdchem.Mol object at 0x7ffb189a8d70&gt;</td>\n",
       "    </tr>\n",
       "    <tr>\n",
       "      <th>15</th>\n",
       "      <td>3486-0416</td>\n",
       "      <td>0.145643</td>\n",
       "      <td>353</td>\n",
       "      <td>&lt;rdkit.Chem.rdchem.Mol object at 0x7ffb188db2f0&gt;</td>\n",
       "      <td>0.348714</td>\n",
       "      <td>215</td>\n",
       "      <td>&lt;rdkit.Chem.rdchem.Mol object at 0x7ffb189bfde0&gt;</td>\n",
       "    </tr>\n",
       "    <tr>\n",
       "      <th>16</th>\n",
       "      <td>C660-0701</td>\n",
       "      <td>0.136169</td>\n",
       "      <td>409</td>\n",
       "      <td>&lt;rdkit.Chem.rdchem.Mol object at 0x7ffb188dcbb0&gt;</td>\n",
       "      <td>0.206647</td>\n",
       "      <td>478</td>\n",
       "      <td>&lt;rdkit.Chem.rdchem.Mol object at 0x7ffb189e74b0&gt;</td>\n",
       "    </tr>\n",
       "    <tr>\n",
       "      <th>17</th>\n",
       "      <td>E939-0299</td>\n",
       "      <td>0.129776</td>\n",
       "      <td>453</td>\n",
       "      <td>&lt;rdkit.Chem.rdchem.Mol object at 0x7ffb188def30&gt;</td>\n",
       "      <td>0.203393</td>\n",
       "      <td>490</td>\n",
       "      <td>&lt;rdkit.Chem.rdchem.Mol object at 0x7ffb18a4ee50&gt;</td>\n",
       "    </tr>\n",
       "    <tr>\n",
       "      <th>18</th>\n",
       "      <td>4477-2385</td>\n",
       "      <td>0.125402</td>\n",
       "      <td>490</td>\n",
       "      <td>&lt;rdkit.Chem.rdchem.Mol object at 0x7ffb188dffa0&gt;</td>\n",
       "      <td>0.155166</td>\n",
       "      <td>707</td>\n",
       "      <td>&lt;rdkit.Chem.rdchem.Mol object at 0x7ffb18a30de0&gt;</td>\n",
       "    </tr>\n",
       "    <tr>\n",
       "      <th>19</th>\n",
       "      <td>C660-0698</td>\n",
       "      <td>0.123688</td>\n",
       "      <td>509</td>\n",
       "      <td>&lt;rdkit.Chem.rdchem.Mol object at 0x7ffb188e1830&gt;</td>\n",
       "      <td>0.122531</td>\n",
       "      <td>985</td>\n",
       "      <td>&lt;rdkit.Chem.rdchem.Mol object at 0x7ffb189d7980&gt;</td>\n",
       "    </tr>\n",
       "    <tr>\n",
       "      <th>20</th>\n",
       "      <td>C431-0074</td>\n",
       "      <td>0.113880</td>\n",
       "      <td>607</td>\n",
       "      <td>&lt;rdkit.Chem.rdchem.Mol object at 0x7ffb188e43d0&gt;</td>\n",
       "      <td>0.126176</td>\n",
       "      <td>947</td>\n",
       "      <td>&lt;rdkit.Chem.rdchem.Mol object at 0x7ffb189df8a0&gt;</td>\n",
       "    </tr>\n",
       "    <tr>\n",
       "      <th>21</th>\n",
       "      <td>F360-0644</td>\n",
       "      <td>0.112637</td>\n",
       "      <td>626</td>\n",
       "      <td>&lt;rdkit.Chem.rdchem.Mol object at 0x7ffb188e4c20&gt;</td>\n",
       "      <td>0.170800</td>\n",
       "      <td>625</td>\n",
       "      <td>&lt;rdkit.Chem.rdchem.Mol object at 0x7ffb1898e8a0&gt;</td>\n",
       "    </tr>\n",
       "    <tr>\n",
       "      <th>22</th>\n",
       "      <td>C660-0754</td>\n",
       "      <td>0.111857</td>\n",
       "      <td>638</td>\n",
       "      <td>&lt;rdkit.Chem.rdchem.Mol object at 0x7ffb188e51a0&gt;</td>\n",
       "      <td>0.167572</td>\n",
       "      <td>642</td>\n",
       "      <td>&lt;rdkit.Chem.rdchem.Mol object at 0x7ffb1898e130&gt;</td>\n",
       "    </tr>\n",
       "    <tr>\n",
       "      <th>23</th>\n",
       "      <td>3966-3256</td>\n",
       "      <td>0.109594</td>\n",
       "      <td>669</td>\n",
       "      <td>&lt;rdkit.Chem.rdchem.Mol object at 0x7ffb188e5f30&gt;</td>\n",
       "      <td>0.174584</td>\n",
       "      <td>604</td>\n",
       "      <td>&lt;rdkit.Chem.rdchem.Mol object at 0x7ffb189b2c20&gt;</td>\n",
       "    </tr>\n",
       "    <tr>\n",
       "      <th>24</th>\n",
       "      <td>F360-0224</td>\n",
       "      <td>0.108625</td>\n",
       "      <td>686</td>\n",
       "      <td>&lt;rdkit.Chem.rdchem.Mol object at 0x7ffb188e86e0&gt;</td>\n",
       "      <td>0.245948</td>\n",
       "      <td>368</td>\n",
       "      <td>&lt;rdkit.Chem.rdchem.Mol object at 0x7ffb189ce750&gt;</td>\n",
       "    </tr>\n",
       "    <tr>\n",
       "      <th>25</th>\n",
       "      <td>K405-1035</td>\n",
       "      <td>0.106780</td>\n",
       "      <td>715</td>\n",
       "      <td>&lt;rdkit.Chem.rdchem.Mol object at 0x7ffb188e93d0&gt;</td>\n",
       "      <td>0.275051</td>\n",
       "      <td>300</td>\n",
       "      <td>&lt;rdkit.Chem.rdchem.Mol object at 0x7ffb189e66e0&gt;</td>\n",
       "    </tr>\n",
       "    <tr>\n",
       "      <th>26</th>\n",
       "      <td>C431-0079</td>\n",
       "      <td>0.099658</td>\n",
       "      <td>808</td>\n",
       "      <td>&lt;rdkit.Chem.rdchem.Mol object at 0x7ffb188ecd00&gt;</td>\n",
       "      <td>0.245222</td>\n",
       "      <td>370</td>\n",
       "      <td>&lt;rdkit.Chem.rdchem.Mol object at 0x7ffb189ce670&gt;</td>\n",
       "    </tr>\n",
       "    <tr>\n",
       "      <th>27</th>\n",
       "      <td>F360-0189</td>\n",
       "      <td>0.097899</td>\n",
       "      <td>834</td>\n",
       "      <td>&lt;rdkit.Chem.rdchem.Mol object at 0x7ffb189868a0&gt;</td>\n",
       "      <td>0.553293</td>\n",
       "      <td>92</td>\n",
       "      <td>&lt;rdkit.Chem.rdchem.Mol object at 0x7ffb189b5670&gt;</td>\n",
       "    </tr>\n",
       "    <tr>\n",
       "      <th>28</th>\n",
       "      <td>G803-0279</td>\n",
       "      <td>0.097481</td>\n",
       "      <td>841</td>\n",
       "      <td>&lt;rdkit.Chem.rdchem.Mol object at 0x7ffb18986bb0&gt;</td>\n",
       "      <td>0.130888</td>\n",
       "      <td>903</td>\n",
       "      <td>&lt;rdkit.Chem.rdchem.Mol object at 0x7ffb189ad520&gt;</td>\n",
       "    </tr>\n",
       "    <tr>\n",
       "      <th>29</th>\n",
       "      <td>F360-0220</td>\n",
       "      <td>0.095688</td>\n",
       "      <td>869</td>\n",
       "      <td>&lt;rdkit.Chem.rdchem.Mol object at 0x7ffb1898c830&gt;</td>\n",
       "      <td>0.822092</td>\n",
       "      <td>10</td>\n",
       "      <td>&lt;rdkit.Chem.rdchem.Mol object at 0x7ffb189b8c90&gt;</td>\n",
       "    </tr>\n",
       "    <tr>\n",
       "      <th>30</th>\n",
       "      <td>3486-0417</td>\n",
       "      <td>0.090629</td>\n",
       "      <td>952</td>\n",
       "      <td>&lt;rdkit.Chem.rdchem.Mol object at 0x7ffb1899ed00&gt;</td>\n",
       "      <td>0.202268</td>\n",
       "      <td>493</td>\n",
       "      <td>&lt;rdkit.Chem.rdchem.Mol object at 0x7ffb18a4ed00&gt;</td>\n",
       "    </tr>\n",
       "    <tr>\n",
       "      <th>31</th>\n",
       "      <td>F360-0645</td>\n",
       "      <td>0.090010</td>\n",
       "      <td>964</td>\n",
       "      <td>&lt;rdkit.Chem.rdchem.Mol object at 0x7ffb189a12f0&gt;</td>\n",
       "      <td>0.204695</td>\n",
       "      <td>486</td>\n",
       "      <td>&lt;rdkit.Chem.rdchem.Mol object at 0x7ffb189e70c0&gt;</td>\n",
       "    </tr>\n",
       "    <tr>\n",
       "      <th>32</th>\n",
       "      <td>K405-1032</td>\n",
       "      <td>0.088660</td>\n",
       "      <td>990</td>\n",
       "      <td>&lt;rdkit.Chem.rdchem.Mol object at 0x7ffb189a1de0&gt;</td>\n",
       "      <td>0.149765</td>\n",
       "      <td>745</td>\n",
       "      <td>&lt;rdkit.Chem.rdchem.Mol object at 0x7ffb18a54ec0&gt;</td>\n",
       "    </tr>\n",
       "  </tbody>\n",
       "</table>\n",
       "</div>"
      ],
      "text/plain": [
       "           id  CHEMBL203_pred  CHEMBL203_index  \\\n",
       "0   3486-0358        0.431300                3   \n",
       "1   F360-0628        0.297467               27   \n",
       "2   C431-0073        0.292120               31   \n",
       "3   3486-0421        0.291748               32   \n",
       "4   E939-0300        0.251230               73   \n",
       "5   F360-0672        0.241129               87   \n",
       "6   E939-0340        0.210057              140   \n",
       "7   C660-0700        0.204045              148   \n",
       "8   F360-0648        0.197876              159   \n",
       "9   E939-0417        0.196403              162   \n",
       "10  0132-0028        0.186825              187   \n",
       "11  3486-0393        0.186619              189   \n",
       "12  F360-0650        0.183807              200   \n",
       "13  E939-0420        0.159231              287   \n",
       "14  F360-0180        0.151201              325   \n",
       "15  3486-0416        0.145643              353   \n",
       "16  C660-0701        0.136169              409   \n",
       "17  E939-0299        0.129776              453   \n",
       "18  4477-2385        0.125402              490   \n",
       "19  C660-0698        0.123688              509   \n",
       "20  C431-0074        0.113880              607   \n",
       "21  F360-0644        0.112637              626   \n",
       "22  C660-0754        0.111857              638   \n",
       "23  3966-3256        0.109594              669   \n",
       "24  F360-0224        0.108625              686   \n",
       "25  K405-1035        0.106780              715   \n",
       "26  C431-0079        0.099658              808   \n",
       "27  F360-0189        0.097899              834   \n",
       "28  G803-0279        0.097481              841   \n",
       "29  F360-0220        0.095688              869   \n",
       "30  3486-0417        0.090629              952   \n",
       "31  F360-0645        0.090010              964   \n",
       "32  K405-1032        0.088660              990   \n",
       "\n",
       "                                               mol_x  CHEMBL267_pred  \\\n",
       "0   <rdkit.Chem.rdchem.Mol object at 0x7ffb188b7750>        0.248166   \n",
       "1   <rdkit.Chem.rdchem.Mol object at 0x7ffb188ce210>        0.133103   \n",
       "2   <rdkit.Chem.rdchem.Mol object at 0x7ffb188ce3d0>        0.135970   \n",
       "3   <rdkit.Chem.rdchem.Mol object at 0x7ffb188ce440>        0.326512   \n",
       "4   <rdkit.Chem.rdchem.Mol object at 0x7ffb188cf670>        0.209726   \n",
       "5   <rdkit.Chem.rdchem.Mol object at 0x7ffb188cfc90>        0.131491   \n",
       "6   <rdkit.Chem.rdchem.Mol object at 0x7ffb188d2440>        0.212946   \n",
       "7   <rdkit.Chem.rdchem.Mol object at 0x7ffb188d27c0>        0.126321   \n",
       "8   <rdkit.Chem.rdchem.Mol object at 0x7ffb188d2c90>        0.224320   \n",
       "9   <rdkit.Chem.rdchem.Mol object at 0x7ffb188d2de0>        0.215093   \n",
       "10  <rdkit.Chem.rdchem.Mol object at 0x7ffb188d3910>        0.459259   \n",
       "11  <rdkit.Chem.rdchem.Mol object at 0x7ffb188d39f0>        0.163605   \n",
       "12  <rdkit.Chem.rdchem.Mol object at 0x7ffb188d3ec0>        0.201038   \n",
       "13  <rdkit.Chem.rdchem.Mol object at 0x7ffb188d9590>        0.145288   \n",
       "14  <rdkit.Chem.rdchem.Mol object at 0x7ffb188da670>        0.188800   \n",
       "15  <rdkit.Chem.rdchem.Mol object at 0x7ffb188db2f0>        0.348714   \n",
       "16  <rdkit.Chem.rdchem.Mol object at 0x7ffb188dcbb0>        0.206647   \n",
       "17  <rdkit.Chem.rdchem.Mol object at 0x7ffb188def30>        0.203393   \n",
       "18  <rdkit.Chem.rdchem.Mol object at 0x7ffb188dffa0>        0.155166   \n",
       "19  <rdkit.Chem.rdchem.Mol object at 0x7ffb188e1830>        0.122531   \n",
       "20  <rdkit.Chem.rdchem.Mol object at 0x7ffb188e43d0>        0.126176   \n",
       "21  <rdkit.Chem.rdchem.Mol object at 0x7ffb188e4c20>        0.170800   \n",
       "22  <rdkit.Chem.rdchem.Mol object at 0x7ffb188e51a0>        0.167572   \n",
       "23  <rdkit.Chem.rdchem.Mol object at 0x7ffb188e5f30>        0.174584   \n",
       "24  <rdkit.Chem.rdchem.Mol object at 0x7ffb188e86e0>        0.245948   \n",
       "25  <rdkit.Chem.rdchem.Mol object at 0x7ffb188e93d0>        0.275051   \n",
       "26  <rdkit.Chem.rdchem.Mol object at 0x7ffb188ecd00>        0.245222   \n",
       "27  <rdkit.Chem.rdchem.Mol object at 0x7ffb189868a0>        0.553293   \n",
       "28  <rdkit.Chem.rdchem.Mol object at 0x7ffb18986bb0>        0.130888   \n",
       "29  <rdkit.Chem.rdchem.Mol object at 0x7ffb1898c830>        0.822092   \n",
       "30  <rdkit.Chem.rdchem.Mol object at 0x7ffb1899ed00>        0.202268   \n",
       "31  <rdkit.Chem.rdchem.Mol object at 0x7ffb189a12f0>        0.204695   \n",
       "32  <rdkit.Chem.rdchem.Mol object at 0x7ffb189a1de0>        0.149765   \n",
       "\n",
       "    CHEMBL267_index                                             mol_y  \n",
       "0               357  <rdkit.Chem.rdchem.Mol object at 0x7ffb189cec20>  \n",
       "1               883  <rdkit.Chem.rdchem.Mol object at 0x7ffb189afc20>  \n",
       "2               842  <rdkit.Chem.rdchem.Mol object at 0x7ffb189b09f0>  \n",
       "3               234  <rdkit.Chem.rdchem.Mol object at 0x7ffb189bf520>  \n",
       "4               470  <rdkit.Chem.rdchem.Mol object at 0x7ffb189e7830>  \n",
       "5               898  <rdkit.Chem.rdchem.Mol object at 0x7ffb189ad2f0>  \n",
       "6               457  <rdkit.Chem.rdchem.Mol object at 0x7ffb189e7e50>  \n",
       "7               943  <rdkit.Chem.rdchem.Mol object at 0x7ffb189df6e0>  \n",
       "8               424  <rdkit.Chem.rdchem.Mol object at 0x7ffb189b9d70>  \n",
       "9               453  <rdkit.Chem.rdchem.Mol object at 0x7ffb189b9050>  \n",
       "10              136  <rdkit.Chem.rdchem.Mol object at 0x7ffb189e5280>  \n",
       "11              660  <rdkit.Chem.rdchem.Mol object at 0x7ffb189b1910>  \n",
       "12              497  <rdkit.Chem.rdchem.Mol object at 0x7ffb18a4eb40>  \n",
       "13              771  <rdkit.Chem.rdchem.Mol object at 0x7ffb189d2a60>  \n",
       "14              535  <rdkit.Chem.rdchem.Mol object at 0x7ffb189a8d70>  \n",
       "15              215  <rdkit.Chem.rdchem.Mol object at 0x7ffb189bfde0>  \n",
       "16              478  <rdkit.Chem.rdchem.Mol object at 0x7ffb189e74b0>  \n",
       "17              490  <rdkit.Chem.rdchem.Mol object at 0x7ffb18a4ee50>  \n",
       "18              707  <rdkit.Chem.rdchem.Mol object at 0x7ffb18a30de0>  \n",
       "19              985  <rdkit.Chem.rdchem.Mol object at 0x7ffb189d7980>  \n",
       "20              947  <rdkit.Chem.rdchem.Mol object at 0x7ffb189df8a0>  \n",
       "21              625  <rdkit.Chem.rdchem.Mol object at 0x7ffb1898e8a0>  \n",
       "22              642  <rdkit.Chem.rdchem.Mol object at 0x7ffb1898e130>  \n",
       "23              604  <rdkit.Chem.rdchem.Mol object at 0x7ffb189b2c20>  \n",
       "24              368  <rdkit.Chem.rdchem.Mol object at 0x7ffb189ce750>  \n",
       "25              300  <rdkit.Chem.rdchem.Mol object at 0x7ffb189e66e0>  \n",
       "26              370  <rdkit.Chem.rdchem.Mol object at 0x7ffb189ce670>  \n",
       "27               92  <rdkit.Chem.rdchem.Mol object at 0x7ffb189b5670>  \n",
       "28              903  <rdkit.Chem.rdchem.Mol object at 0x7ffb189ad520>  \n",
       "29               10  <rdkit.Chem.rdchem.Mol object at 0x7ffb189b8c90>  \n",
       "30              493  <rdkit.Chem.rdchem.Mol object at 0x7ffb18a4ed00>  \n",
       "31              486  <rdkit.Chem.rdchem.Mol object at 0x7ffb189e70c0>  \n",
       "32              745  <rdkit.Chem.rdchem.Mol object at 0x7ffb18a54ec0>  "
      ]
     },
     "execution_count": 217,
     "metadata": {},
     "output_type": "execute_result"
    }
   ],
   "source": [
    "ab = a.merge(b, on=\"id\")\n",
    "ab"
   ]
  },
  {
   "cell_type": "code",
   "execution_count": 218,
   "metadata": {
    "collapsed": false
   },
   "outputs": [
    {
     "data": {
      "image/png": "[encoded data removed]",
      "text/plain": [
       "<rdkit.Chem.rdchem.Mol at 0x7ffb1898c830>"
      ]
     },
     "execution_count": 218,
     "metadata": {},
     "output_type": "execute_result"
    }
   ],
   "source": [
    "ab.loc[29][\"mol_x\"]"
   ]
  },
  {
   "cell_type": "code",
   "execution_count": 219,
   "metadata": {
    "collapsed": false
   },
   "outputs": [
    {
     "data": {
      "image/png": "[encoded data removed]",
      "text/plain": [
       "<rdkit.Chem.rdchem.Mol at 0x7ffb189868a0>"
      ]
     },
     "execution_count": 219,
     "metadata": {},
     "output_type": "execute_result"
    }
   ],
   "source": [
    "ab.loc[27][\"mol_x\"]"
   ]
  },
  {
   "cell_type": "code",
   "execution_count": 220,
   "metadata": {
    "collapsed": false
   },
   "outputs": [
    {
     "data": {
      "image/png": "[encoded data removed]",
      "text/plain": [
       "<rdkit.Chem.rdchem.Mol at 0x7ffb188db2f0>"
      ]
     },
     "execution_count": 220,
     "metadata": {},
     "output_type": "execute_result"
    }
   ],
   "source": [
    "ab.loc[15][\"mol_x\"]"
   ]
  },
  {
   "cell_type": "code",
   "execution_count": 221,
   "metadata": {
    "collapsed": false
   },
   "outputs": [
    {
     "data": {
      "image/png": "[encoded data removed]",
      "text/plain": [
       "<rdkit.Chem.rdchem.Mol at 0x7ffb188d3910>"
      ]
     },
     "execution_count": 221,
     "metadata": {},
     "output_type": "execute_result"
    }
   ],
   "source": [
    "ab.loc[10][\"mol_x\"]"
   ]
  },
  {
   "cell_type": "code",
   "execution_count": 222,
   "metadata": {
    "collapsed": false
   },
   "outputs": [
    {
     "data": {
      "image/png": "[encoded data removed]",
      "text/plain": [
       "<rdkit.Chem.rdchem.Mol at 0x7ffb188ce440>"
      ]
     },
     "execution_count": 222,
     "metadata": {},
     "output_type": "execute_result"
    }
   ],
   "source": [
    "ab.loc[3][\"mol_x\"]"
   ]
  },
  {
   "cell_type": "code",
   "execution_count": 223,
   "metadata": {
    "collapsed": false
   },
   "outputs": [
    {
     "data": {
      "image/png": "[encoded data removed]",
      "text/plain": [
       "<rdkit.Chem.rdchem.Mol at 0x7ffb188b7750>"
      ]
     },
     "execution_count": 223,
     "metadata": {},
     "output_type": "execute_result"
    }
   ],
   "source": [
    "ab.loc[0][\"mol_x\"]"
   ]
  },
  {
   "cell_type": "code",
   "execution_count": null,
   "metadata": {
    "collapsed": true
   },
   "outputs": [],
   "source": []
  }
 ],
 "metadata": {
  "kernelspec": {
   "display_name": "Python 2",
   "language": "python",
   "name": "python2"
  },
  "language_info": {
   "codemirror_mode": {
    "name": "ipython",
    "version": 2
   },
   "file_extension": ".py",
   "mimetype": "text/x-python",
   "name": "python",
   "nbconvert_exporter": "python",
   "pygments_lexer": "ipython2",
   "version": "2.7.6"
  }
 },
 "nbformat": 4,
 "nbformat_minor": 1
}
