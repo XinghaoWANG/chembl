{
 "cells": [
  {
   "cell_type": "code",
   "execution_count": 1,
   "metadata": {
    "collapsed": true
   },
   "outputs": [],
   "source": [
    "from __future__ import division\n",
    "\n",
    "import os\n",
    "import numpy as np\n",
    "import pandas as pd\n",
    "from scipy import stats\n",
    "import matplotlib.pyplot as plt\n",
    "%matplotlib inline"
   ]
  },
  {
   "cell_type": "code",
   "execution_count": 30,
   "metadata": {
    "collapsed": true
   },
   "outputs": [],
   "source": [
    "from rdkit import Chem\n",
    "from rdkit.Chem import Draw\n",
    "from rdkit.Chem.Draw import IPythonConsole\n",
    "from rdkit.Chem.AtomPairs.Pairs import GetAtomPairFingerprint"
   ]
  },
  {
   "cell_type": "code",
   "execution_count": 3,
   "metadata": {
    "collapsed": true
   },
   "outputs": [],
   "source": [
    "txt_dir = \"chembl_source\""
   ]
  },
  {
   "cell_type": "code",
   "execution_count": 4,
   "metadata": {
    "collapsed": false
   },
   "outputs": [
    {
     "name": "stderr",
     "output_type": "stream",
     "text": [
      "/usr/local/lib/python2.7/dist-packages/IPython/core/interactiveshell.py:2717: DtypeWarning: Columns (1,3,6,7,8,9,11,14,16,19,23,27,31,34,35,38,44,48,50,52,53,54,55,56,57,58) have mixed types. Specify dtype option on import or set low_memory=False.\n",
      "  interactivity=interactivity, compiler=compiler, result=result)\n"
     ]
    },
    {
     "data": {
      "text/plain": [
       "(1235867, 59)"
      ]
     },
     "execution_count": 4,
     "metadata": {},
     "output_type": "execute_result"
    }
   ],
   "source": [
    "# read all chembl bioactivity records\n",
    "chembl = pd.read_csv(os.path.join(txt_dir, \"inhibitor_2017_06_08.csv\"), delimiter=\"\\t\")\n",
    "chembl.shape"
   ]
  },
  {
   "cell_type": "code",
   "execution_count": 5,
   "metadata": {
    "collapsed": false,
    "scrolled": true
   },
   "outputs": [
    {
     "data": {
      "text/plain": [
       "(1230260, 59)"
      ]
     },
     "execution_count": 5,
     "metadata": {},
     "output_type": "execute_result"
    }
   ],
   "source": [
    "# Remove records has no canonical smiles\n",
    "m = chembl[\"CANONICAL_SMILES\"].isnull()\n",
    "chembl = chembl[~m]\n",
    "chembl.shape"
   ]
  },
  {
   "cell_type": "code",
   "execution_count": 21,
   "metadata": {
    "collapsed": true
   },
   "outputs": [],
   "source": [
    "# save inhibitors' smiles and apfp\n",
    "smiles = chembl[[\"CMPD_CHEMBLID\", \"CANONICAL_SMILES\"]].copy()\n",
    "smiles.drop_duplicates(subset=\"CMPD_CHEMBLID\", inplace=True)\n",
    "smiles.set_index(keys=\"CMPD_CHEMBLID\", drop=True, inplace=True)\n",
    "smiles.to_csv(txt_dir + \"/inhibitor_smiles.csv\")"
   ]
  },
  {
   "cell_type": "code",
   "execution_count": 31,
   "metadata": {
    "collapsed": false,
    "scrolled": true
   },
   "outputs": [
    {
     "name": "stdout",
     "output_type": "stream",
     "text": [
      "CHEMBL1161633\n",
      "CHEMBL2097021\n",
      "CHEMBL471869\n",
      "CHEMBL1161635\n",
      "CHEMBL181124\n",
      "CHEMBL1161637\n",
      "CHEMBL181880\n",
      "CHEMBL3593577\n",
      "CHEMBL450200\n",
      "CMPD_CHEMBLID\n",
      "CHEMBL450642\n",
      "CHEMBL2205792\n",
      "CHEMBL2205793\n",
      "CHEMBL490121\n",
      "CHEMBL523281\n",
      "CHEMBL463327\n",
      "CHEMBL522826\n",
      "CHEMBL2205790\n",
      "CHEMBL495469\n",
      "CHEMBL2205791\n",
      "CHEMBL492602\n",
      "CHEMBL2205788\n",
      "CHEMBL2205787\n",
      "CHEMBL452133\n",
      "CHEMBL2205785\n",
      "CHEMBL508580\n",
      "CHEMBL508803\n",
      "CHEMBL2205789\n",
      "CHEMBL2205786\n",
      "CHEMBL493431\n",
      "CHEMBL2087763\n",
      "CHEMBL2087764\n",
      "CHEMBL2179461\n",
      "CHEMBL2179458\n",
      "CHEMBL2179464\n",
      "CHEMBL2179462\n",
      "CHEMBL2179459\n",
      "CHEMBL2179463\n",
      "CHEMBL1083554\n",
      "CHEMBL2179460\n",
      "CHEMBL3327018\n"
     ]
    }
   ],
   "source": [
    "def dict_2_str(d):\n",
    "  keylist = d.keys()\n",
    "  keylist.sort()\n",
    "  kv_list = [\"{}: {}\".format(k, d[k]) for k in keylist] \n",
    "  return \", \".join(kv_list)\n",
    "\n",
    "apfp_file = open(txt_dir + \"/inhibitor_apfp.csv\", \"w\")\n",
    "for id_, row in smiles.iterrows():\n",
    "    m = Chem.MolFromSmiles(row.values[0])\n",
    "    if m is None:\n",
    "        print id_\n",
    "        continue\n",
    "    apfps = GetAtomPairFingerprint(Chem.RemoveHs(m)).GetNonzeroElements()\n",
    "    apfp_file.write(\"%s\\t{%s}\\n\" % (id_, dict_2_str(apfps)))\n",
    "apfp_file.close()"
   ]
  },
  {
   "cell_type": "code",
   "execution_count": 6,
   "metadata": {
    "collapsed": true
   },
   "outputs": [],
   "source": [
    "# calculate some molecules's weight\n",
    "def molwt(x):\n",
    "    try:\n",
    "        value = Chem.Descriptors.MolWt(Chem.MolFromSmiles(x))\n",
    "    except:\n",
    "        value = np.nan\n",
    "    return value\n",
    "\n",
    "m = chembl[\"MOLWEIGHT\"].isnull()\n",
    "chembl.loc[m, \"MOLWEIGHT\"] = chembl.loc[m, \"CANONICAL_SMILES\"].apply(molwt)"
   ]
  },
  {
   "cell_type": "code",
   "execution_count": 8,
   "metadata": {
    "collapsed": false
   },
   "outputs": [
    {
     "data": {
      "text/plain": [
       "(1223639, 59)"
      ]
     },
     "execution_count": 8,
     "metadata": {},
     "output_type": "execute_result"
    }
   ],
   "source": [
    "# remove molecules that has no \"MOLWEIGHT\"\n",
    "m = chembl[\"MOLWEIGHT\"].isnull()\n",
    "chembl = chembl[~m]\n",
    "chembl.shape"
   ]
  },
  {
   "cell_type": "code",
   "execution_count": 32,
   "metadata": {
    "collapsed": false,
    "scrolled": false
   },
   "outputs": [
    {
     "data": {
      "text/plain": [
       "(835299, 59)"
      ]
     },
     "execution_count": 32,
     "metadata": {},
     "output_type": "execute_result"
    }
   ],
   "source": [
    "# pick out inhibitor records\n",
    "inhibitor = chembl[chembl[\"STANDARD_TYPE\"].isin([\"IC50\", \"Ki\", \"EC50\"])]\n",
    "\n",
    "# inhibitor records: all IC50, a part of Ki and EC50 with \"inhibit\" in \"DESCRIPTION\"\n",
    "m0 = inhibitor[\"STANDARD_TYPE\"].isin([\"IC50\"]) \n",
    "m1 = inhibitor[\"STANDARD_TYPE\"].isin([\"Ki\", \"EC50\"]) \n",
    "m2 = inhibitor[\"DESCRIPTION\"].apply(lambda x: \"inhibit\" in x.lower())\n",
    "m = m0 | (m1 & m2)\n",
    "\n",
    "inhibitor = inhibitor[m]\n",
    "inhibitor.shape"
   ]
  },
  {
   "cell_type": "code",
   "execution_count": 33,
   "metadata": {
    "collapsed": false
   },
   "outputs": [
    {
     "data": {
      "text/plain": [
       "(716442, 59)"
      ]
     },
     "execution_count": 33,
     "metadata": {},
     "output_type": "execute_result"
    }
   ],
   "source": [
    "# some records without \"STANDARD_VALUE\" should be cleared away\n",
    "m = inhibitor[\"STANDARD_VALUE\"].isnull()\n",
    "inhibitor = inhibitor[~m]\n",
    "inhibitor.shape"
   ]
  },
  {
   "cell_type": "code",
   "execution_count": 34,
   "metadata": {
    "collapsed": false
   },
   "outputs": [
    {
     "data": {
      "text/plain": [
       "Outside typical range            26411\n",
       "Potential transcription error      378\n",
       "Non standard unit for type         370\n",
       "Manually validated                 163\n",
       "Name: DATA_VALIDITY_COMMENT, dtype: int64"
      ]
     },
     "execution_count": 34,
     "metadata": {},
     "output_type": "execute_result"
    }
   ],
   "source": [
    "inhibitor[\"DATA_VALIDITY_COMMENT\"].value_counts()"
   ]
  },
  {
   "cell_type": "code",
   "execution_count": 35,
   "metadata": {
    "collapsed": false
   },
   "outputs": [
    {
     "data": {
      "text/plain": [
       "(690031, 59)"
      ]
     },
     "execution_count": 35,
     "metadata": {},
     "output_type": "execute_result"
    }
   ],
   "source": [
    "# some records with abnormal data also should be cleared away\n",
    "#error_comment = [\"Outside typical range\", \"Non standard unit for type\", \"Potential transcription error\"]\n",
    "error_comment = [\"Outside typical range\"]\n",
    "m = inhibitor[\"DATA_VALIDITY_COMMENT\"].isin(error_comment)\n",
    "inhibitor = inhibitor[~m]\n",
    "inhibitor.shape"
   ]
  },
  {
   "cell_type": "code",
   "execution_count": 36,
   "metadata": {
    "collapsed": false
   },
   "outputs": [
    {
     "data": {
      "text/plain": [
       "(689725, 59)"
      ]
     },
     "execution_count": 36,
     "metadata": {},
     "output_type": "execute_result"
    }
   ],
   "source": [
    "# correct some STANDARD_UNITS\n",
    "m = inhibitor[\"STANDARD_UNITS\"].isin([\"/uM\"])\n",
    "inhibitor.loc[m, \"STANDARD_VALUE\"] = inhibitor.loc[m, \"STANDARD_VALUE\"].astype(float).values * 1000\n",
    "inhibitor.loc[m, \"STANDARD_UNITS\"] = \"nM\"\n",
    "\n",
    "m = inhibitor[\"STANDARD_UNITS\"].isin([\"/nM\", \"ug nM-1\", \"Ke nM-1\"])\n",
    "inhibitor.loc[m, \"STANDARD_UNITS\"] = \"nM\"\n",
    "\n",
    "m = inhibitor[\"STANDARD_UNITS\"].isin([\"ug.mL-1\"])\n",
    "inhibitor.loc[m, \"STANDARD_VALUE\"] = inhibitor.loc[m, \"STANDARD_VALUE\"].astype(float) / inhibitor.loc[m, \"MOLWEIGHT\"].astype(float) * 10**6\n",
    "inhibitor.loc[m, \"STANDARD_UNITS\"] = \"nM\"\n",
    "\n",
    "m = inhibitor[\"STANDARD_UNITS\"].isin([\"nM\"])\n",
    "inhibitor = inhibitor[m]\n",
    "inhibitor.shape"
   ]
  },
  {
   "cell_type": "code",
   "execution_count": 37,
   "metadata": {
    "collapsed": false
   },
   "outputs": [
    {
     "data": {
      "text/plain": [
       "(662788, 59)"
      ]
     },
     "execution_count": 37,
     "metadata": {},
     "output_type": "execute_result"
    }
   ],
   "source": [
    "# remove duplicates\n",
    "m = inhibitor[\"POTENTIAL_DUPLICATE\"].fillna(0).astype(int) == 0\n",
    "inhibitor = inhibitor[m]\n",
    "inhibitor.shape"
   ]
  },
  {
   "cell_type": "code",
   "execution_count": 39,
   "metadata": {
    "collapsed": false
   },
   "outputs": [],
   "source": [
    "inhibitor.to_csv(txt_dir + \"/inhibitor_clean_2017_06_08.csv\", index=False)"
   ]
  },
  {
   "cell_type": "code",
   "execution_count": null,
   "metadata": {
    "collapsed": true
   },
   "outputs": [],
   "source": []
  },
  {
   "cell_type": "code",
   "execution_count": null,
   "metadata": {
    "collapsed": true
   },
   "outputs": [],
   "source": [
    "# judge a record's clf label\n",
    "def is_pos(row):\n",
    "  r = row[\"RELATION\"]\n",
    "  v = np.float32(row[\"STANDARD_VALUE\"])\n",
    "  if r == \"<\" or r == \"<=\":\n",
    "    return 1 if v <= 10000 else np.nan\n",
    "  elif r == \">\" or r == \">=\":\n",
    "    return -1 if v >= 10000 else np.nan\n",
    "  elif r == \"=\":\n",
    "    return 1 if v <= 10000 else -1\n",
    "  else:\n",
    "    return np.nan"
   ]
  },
  {
   "cell_type": "code",
   "execution_count": 89,
   "metadata": {
    "collapsed": true
   },
   "outputs": [],
   "source": [
    "inhibitor[\"CLF_LABEL\"] = inhibitor.apply(is_pos, axis=1)\n",
    "inhibitor = inhibitor[~inhibitor[\"CLF_LABEL\"].isnull()]\n",
    "inhibitor.loc[:, \"YEAR\"] = inhibitor.loc[:, \"YEAR\"].astype(float)"
   ]
  },
  {
   "cell_type": "code",
   "execution_count": 131,
   "metadata": {
    "collapsed": false,
    "scrolled": true
   },
   "outputs": [
    {
     "data": {
      "text/html": [
       "<div>\n",
       "<table border=\"1\" class=\"dataframe\">\n",
       "  <thead>\n",
       "    <tr style=\"text-align: right;\">\n",
       "      <th></th>\n",
       "      <th>TARGET_CHEMBLID</th>\n",
       "      <th>PREF_NAME</th>\n",
       "      <th>CMPD_CHEMBLID</th>\n",
       "      <th>CLF_LABEL</th>\n",
       "      <th>YEAR</th>\n",
       "    </tr>\n",
       "  </thead>\n",
       "  <tbody>\n",
       "    <tr>\n",
       "      <th>0</th>\n",
       "      <td>CHEMBL1075092</td>\n",
       "      <td>Glycine receptor subunit alpha-3</td>\n",
       "      <td>CHEMBL1092618</td>\n",
       "      <td>-1.0</td>\n",
       "      <td>2010.0</td>\n",
       "    </tr>\n",
       "    <tr>\n",
       "      <th>1</th>\n",
       "      <td>CHEMBL1075092</td>\n",
       "      <td>Glycine receptor subunit alpha-3</td>\n",
       "      <td>CHEMBL1092619</td>\n",
       "      <td>-1.0</td>\n",
       "      <td>2010.0</td>\n",
       "    </tr>\n",
       "    <tr>\n",
       "      <th>2</th>\n",
       "      <td>CHEMBL1075092</td>\n",
       "      <td>Glycine receptor subunit alpha-3</td>\n",
       "      <td>CHEMBL1093582</td>\n",
       "      <td>-1.0</td>\n",
       "      <td>2010.0</td>\n",
       "    </tr>\n",
       "    <tr>\n",
       "      <th>3</th>\n",
       "      <td>CHEMBL1075092</td>\n",
       "      <td>Glycine receptor subunit alpha-3</td>\n",
       "      <td>CHEMBL1093848</td>\n",
       "      <td>-1.0</td>\n",
       "      <td>2010.0</td>\n",
       "    </tr>\n",
       "    <tr>\n",
       "      <th>4</th>\n",
       "      <td>CHEMBL1075092</td>\n",
       "      <td>Glycine receptor subunit alpha-3</td>\n",
       "      <td>CHEMBL2398350</td>\n",
       "      <td>-1.0</td>\n",
       "      <td>2013.0</td>\n",
       "    </tr>\n",
       "    <tr>\n",
       "      <th>5</th>\n",
       "      <td>CHEMBL1075092</td>\n",
       "      <td>Glycine receptor subunit alpha-3</td>\n",
       "      <td>CHEMBL2398352</td>\n",
       "      <td>-1.0</td>\n",
       "      <td>2013.0</td>\n",
       "    </tr>\n",
       "    <tr>\n",
       "      <th>6</th>\n",
       "      <td>CHEMBL1075092</td>\n",
       "      <td>Glycine receptor subunit alpha-3</td>\n",
       "      <td>CHEMBL464651</td>\n",
       "      <td>1.0</td>\n",
       "      <td>2010.0</td>\n",
       "    </tr>\n",
       "    <tr>\n",
       "      <th>7</th>\n",
       "      <td>CHEMBL1075097</td>\n",
       "      <td>Arginase-1</td>\n",
       "      <td>CHEMBL1099169</td>\n",
       "      <td>1.0</td>\n",
       "      <td>2010.0</td>\n",
       "    </tr>\n",
       "    <tr>\n",
       "      <th>8</th>\n",
       "      <td>CHEMBL1075101</td>\n",
       "      <td>G-protein coupled receptor 81</td>\n",
       "      <td>CHEMBL3714817</td>\n",
       "      <td>1.0</td>\n",
       "      <td>NaN</td>\n",
       "    </tr>\n",
       "    <tr>\n",
       "      <th>9</th>\n",
       "      <td>CHEMBL1075101</td>\n",
       "      <td>G-protein coupled receptor 81</td>\n",
       "      <td>CHEMBL3714879</td>\n",
       "      <td>1.0</td>\n",
       "      <td>NaN</td>\n",
       "    </tr>\n",
       "    <tr>\n",
       "      <th>10</th>\n",
       "      <td>CHEMBL1075101</td>\n",
       "      <td>G-protein coupled receptor 81</td>\n",
       "      <td>CHEMBL3714885</td>\n",
       "      <td>1.0</td>\n",
       "      <td>NaN</td>\n",
       "    </tr>\n",
       "    <tr>\n",
       "      <th>11</th>\n",
       "      <td>CHEMBL1075101</td>\n",
       "      <td>G-protein coupled receptor 81</td>\n",
       "      <td>CHEMBL3714909</td>\n",
       "      <td>1.0</td>\n",
       "      <td>NaN</td>\n",
       "    </tr>\n",
       "    <tr>\n",
       "      <th>12</th>\n",
       "      <td>CHEMBL1075101</td>\n",
       "      <td>G-protein coupled receptor 81</td>\n",
       "      <td>CHEMBL3714960</td>\n",
       "      <td>1.0</td>\n",
       "      <td>NaN</td>\n",
       "    </tr>\n",
       "    <tr>\n",
       "      <th>13</th>\n",
       "      <td>CHEMBL1075101</td>\n",
       "      <td>G-protein coupled receptor 81</td>\n",
       "      <td>CHEMBL3714970</td>\n",
       "      <td>1.0</td>\n",
       "      <td>NaN</td>\n",
       "    </tr>\n",
       "    <tr>\n",
       "      <th>14</th>\n",
       "      <td>CHEMBL1075101</td>\n",
       "      <td>G-protein coupled receptor 81</td>\n",
       "      <td>CHEMBL3715004</td>\n",
       "      <td>1.0</td>\n",
       "      <td>NaN</td>\n",
       "    </tr>\n",
       "    <tr>\n",
       "      <th>15</th>\n",
       "      <td>CHEMBL1075101</td>\n",
       "      <td>G-protein coupled receptor 81</td>\n",
       "      <td>CHEMBL3715017</td>\n",
       "      <td>1.0</td>\n",
       "      <td>NaN</td>\n",
       "    </tr>\n",
       "    <tr>\n",
       "      <th>16</th>\n",
       "      <td>CHEMBL1075101</td>\n",
       "      <td>G-protein coupled receptor 81</td>\n",
       "      <td>CHEMBL3715077</td>\n",
       "      <td>1.0</td>\n",
       "      <td>NaN</td>\n",
       "    </tr>\n",
       "    <tr>\n",
       "      <th>17</th>\n",
       "      <td>CHEMBL1075101</td>\n",
       "      <td>G-protein coupled receptor 81</td>\n",
       "      <td>CHEMBL3715155</td>\n",
       "      <td>1.0</td>\n",
       "      <td>NaN</td>\n",
       "    </tr>\n",
       "    <tr>\n",
       "      <th>18</th>\n",
       "      <td>CHEMBL1075101</td>\n",
       "      <td>G-protein coupled receptor 81</td>\n",
       "      <td>CHEMBL3715174</td>\n",
       "      <td>1.0</td>\n",
       "      <td>NaN</td>\n",
       "    </tr>\n",
       "    <tr>\n",
       "      <th>19</th>\n",
       "      <td>CHEMBL1075101</td>\n",
       "      <td>G-protein coupled receptor 81</td>\n",
       "      <td>CHEMBL3715218</td>\n",
       "      <td>1.0</td>\n",
       "      <td>NaN</td>\n",
       "    </tr>\n",
       "    <tr>\n",
       "      <th>20</th>\n",
       "      <td>CHEMBL1075101</td>\n",
       "      <td>G-protein coupled receptor 81</td>\n",
       "      <td>CHEMBL3715359</td>\n",
       "      <td>1.0</td>\n",
       "      <td>NaN</td>\n",
       "    </tr>\n",
       "    <tr>\n",
       "      <th>21</th>\n",
       "      <td>CHEMBL1075101</td>\n",
       "      <td>G-protein coupled receptor 81</td>\n",
       "      <td>CHEMBL3715361</td>\n",
       "      <td>1.0</td>\n",
       "      <td>NaN</td>\n",
       "    </tr>\n",
       "    <tr>\n",
       "      <th>22</th>\n",
       "      <td>CHEMBL1075101</td>\n",
       "      <td>G-protein coupled receptor 81</td>\n",
       "      <td>CHEMBL3715375</td>\n",
       "      <td>1.0</td>\n",
       "      <td>NaN</td>\n",
       "    </tr>\n",
       "    <tr>\n",
       "      <th>23</th>\n",
       "      <td>CHEMBL1075101</td>\n",
       "      <td>G-protein coupled receptor 81</td>\n",
       "      <td>CHEMBL3715394</td>\n",
       "      <td>1.0</td>\n",
       "      <td>NaN</td>\n",
       "    </tr>\n",
       "    <tr>\n",
       "      <th>24</th>\n",
       "      <td>CHEMBL1075101</td>\n",
       "      <td>G-protein coupled receptor 81</td>\n",
       "      <td>CHEMBL3715478</td>\n",
       "      <td>1.0</td>\n",
       "      <td>NaN</td>\n",
       "    </tr>\n",
       "    <tr>\n",
       "      <th>25</th>\n",
       "      <td>CHEMBL1075101</td>\n",
       "      <td>G-protein coupled receptor 81</td>\n",
       "      <td>CHEMBL3715536</td>\n",
       "      <td>1.0</td>\n",
       "      <td>NaN</td>\n",
       "    </tr>\n",
       "    <tr>\n",
       "      <th>26</th>\n",
       "      <td>CHEMBL1075101</td>\n",
       "      <td>G-protein coupled receptor 81</td>\n",
       "      <td>CHEMBL3715558</td>\n",
       "      <td>1.0</td>\n",
       "      <td>NaN</td>\n",
       "    </tr>\n",
       "    <tr>\n",
       "      <th>27</th>\n",
       "      <td>CHEMBL1075101</td>\n",
       "      <td>G-protein coupled receptor 81</td>\n",
       "      <td>CHEMBL3715572</td>\n",
       "      <td>1.0</td>\n",
       "      <td>NaN</td>\n",
       "    </tr>\n",
       "    <tr>\n",
       "      <th>28</th>\n",
       "      <td>CHEMBL1075101</td>\n",
       "      <td>G-protein coupled receptor 81</td>\n",
       "      <td>CHEMBL3715577</td>\n",
       "      <td>1.0</td>\n",
       "      <td>NaN</td>\n",
       "    </tr>\n",
       "    <tr>\n",
       "      <th>29</th>\n",
       "      <td>CHEMBL1075101</td>\n",
       "      <td>G-protein coupled receptor 81</td>\n",
       "      <td>CHEMBL3715599</td>\n",
       "      <td>1.0</td>\n",
       "      <td>NaN</td>\n",
       "    </tr>\n",
       "    <tr>\n",
       "      <th>...</th>\n",
       "      <td>...</td>\n",
       "      <td>...</td>\n",
       "      <td>...</td>\n",
       "      <td>...</td>\n",
       "      <td>...</td>\n",
       "    </tr>\n",
       "    <tr>\n",
       "      <th>542203</th>\n",
       "      <td>CHEMBL6175</td>\n",
       "      <td>Lysine-specific demethylase 4C</td>\n",
       "      <td>CHEMBL3786862</td>\n",
       "      <td>1.0</td>\n",
       "      <td>2016.0</td>\n",
       "    </tr>\n",
       "    <tr>\n",
       "      <th>542204</th>\n",
       "      <td>CHEMBL6175</td>\n",
       "      <td>Lysine-specific demethylase 4C</td>\n",
       "      <td>CHEMBL3786952</td>\n",
       "      <td>1.0</td>\n",
       "      <td>2016.0</td>\n",
       "    </tr>\n",
       "    <tr>\n",
       "      <th>542205</th>\n",
       "      <td>CHEMBL6175</td>\n",
       "      <td>Lysine-specific demethylase 4C</td>\n",
       "      <td>CHEMBL3786963</td>\n",
       "      <td>1.0</td>\n",
       "      <td>2016.0</td>\n",
       "    </tr>\n",
       "    <tr>\n",
       "      <th>542206</th>\n",
       "      <td>CHEMBL6175</td>\n",
       "      <td>Lysine-specific demethylase 4C</td>\n",
       "      <td>CHEMBL3787020</td>\n",
       "      <td>1.0</td>\n",
       "      <td>2016.0</td>\n",
       "    </tr>\n",
       "    <tr>\n",
       "      <th>542207</th>\n",
       "      <td>CHEMBL6175</td>\n",
       "      <td>Lysine-specific demethylase 4C</td>\n",
       "      <td>CHEMBL3787044</td>\n",
       "      <td>1.0</td>\n",
       "      <td>2016.0</td>\n",
       "    </tr>\n",
       "    <tr>\n",
       "      <th>542208</th>\n",
       "      <td>CHEMBL6175</td>\n",
       "      <td>Lysine-specific demethylase 4C</td>\n",
       "      <td>CHEMBL3787133</td>\n",
       "      <td>1.0</td>\n",
       "      <td>2016.0</td>\n",
       "    </tr>\n",
       "    <tr>\n",
       "      <th>542209</th>\n",
       "      <td>CHEMBL6175</td>\n",
       "      <td>Lysine-specific demethylase 4C</td>\n",
       "      <td>CHEMBL3787193</td>\n",
       "      <td>1.0</td>\n",
       "      <td>2016.0</td>\n",
       "    </tr>\n",
       "    <tr>\n",
       "      <th>542210</th>\n",
       "      <td>CHEMBL6175</td>\n",
       "      <td>Lysine-specific demethylase 4C</td>\n",
       "      <td>CHEMBL3787438</td>\n",
       "      <td>1.0</td>\n",
       "      <td>2016.0</td>\n",
       "    </tr>\n",
       "    <tr>\n",
       "      <th>542211</th>\n",
       "      <td>CHEMBL6175</td>\n",
       "      <td>Lysine-specific demethylase 4C</td>\n",
       "      <td>CHEMBL3787516</td>\n",
       "      <td>1.0</td>\n",
       "      <td>2016.0</td>\n",
       "    </tr>\n",
       "    <tr>\n",
       "      <th>542212</th>\n",
       "      <td>CHEMBL6175</td>\n",
       "      <td>Lysine-specific demethylase 4C</td>\n",
       "      <td>CHEMBL3787534</td>\n",
       "      <td>1.0</td>\n",
       "      <td>2016.0</td>\n",
       "    </tr>\n",
       "    <tr>\n",
       "      <th>542213</th>\n",
       "      <td>CHEMBL6175</td>\n",
       "      <td>Lysine-specific demethylase 4C</td>\n",
       "      <td>CHEMBL3787548</td>\n",
       "      <td>1.0</td>\n",
       "      <td>2016.0</td>\n",
       "    </tr>\n",
       "    <tr>\n",
       "      <th>542214</th>\n",
       "      <td>CHEMBL6175</td>\n",
       "      <td>Lysine-specific demethylase 4C</td>\n",
       "      <td>CHEMBL3787556</td>\n",
       "      <td>1.0</td>\n",
       "      <td>2016.0</td>\n",
       "    </tr>\n",
       "    <tr>\n",
       "      <th>542215</th>\n",
       "      <td>CHEMBL6175</td>\n",
       "      <td>Lysine-specific demethylase 4C</td>\n",
       "      <td>CHEMBL3787664</td>\n",
       "      <td>1.0</td>\n",
       "      <td>2016.0</td>\n",
       "    </tr>\n",
       "    <tr>\n",
       "      <th>542216</th>\n",
       "      <td>CHEMBL6175</td>\n",
       "      <td>Lysine-specific demethylase 4C</td>\n",
       "      <td>CHEMBL3787669</td>\n",
       "      <td>1.0</td>\n",
       "      <td>2016.0</td>\n",
       "    </tr>\n",
       "    <tr>\n",
       "      <th>542217</th>\n",
       "      <td>CHEMBL6177</td>\n",
       "      <td>NAD kinase</td>\n",
       "      <td>CHEMBL233434</td>\n",
       "      <td>-1.0</td>\n",
       "      <td>2008.0</td>\n",
       "    </tr>\n",
       "    <tr>\n",
       "      <th>542218</th>\n",
       "      <td>CHEMBL6177</td>\n",
       "      <td>NAD kinase</td>\n",
       "      <td>CHEMBL538665</td>\n",
       "      <td>-1.0</td>\n",
       "      <td>2009.0</td>\n",
       "    </tr>\n",
       "    <tr>\n",
       "      <th>542219</th>\n",
       "      <td>CHEMBL6177</td>\n",
       "      <td>NAD kinase</td>\n",
       "      <td>CHEMBL560315</td>\n",
       "      <td>1.0</td>\n",
       "      <td>2009.0</td>\n",
       "    </tr>\n",
       "    <tr>\n",
       "      <th>542220</th>\n",
       "      <td>CHEMBL6177</td>\n",
       "      <td>NAD kinase</td>\n",
       "      <td>CHEMBL561654</td>\n",
       "      <td>-1.0</td>\n",
       "      <td>2009.0</td>\n",
       "    </tr>\n",
       "    <tr>\n",
       "      <th>542221</th>\n",
       "      <td>CHEMBL6177</td>\n",
       "      <td>NAD kinase</td>\n",
       "      <td>CHEMBL562056</td>\n",
       "      <td>1.0</td>\n",
       "      <td>2009.0</td>\n",
       "    </tr>\n",
       "    <tr>\n",
       "      <th>542222</th>\n",
       "      <td>CHEMBL6186</td>\n",
       "      <td>Serine/threonine-protein kinase Sgk3</td>\n",
       "      <td>CHEMBL2333365</td>\n",
       "      <td>-1.0</td>\n",
       "      <td>2013.0</td>\n",
       "    </tr>\n",
       "    <tr>\n",
       "      <th>542223</th>\n",
       "      <td>CHEMBL6186</td>\n",
       "      <td>Serine/threonine-protein kinase Sgk3</td>\n",
       "      <td>CHEMBL3092460</td>\n",
       "      <td>-1.0</td>\n",
       "      <td>2015.0</td>\n",
       "    </tr>\n",
       "    <tr>\n",
       "      <th>542224</th>\n",
       "      <td>CHEMBL6186</td>\n",
       "      <td>Serine/threonine-protein kinase Sgk3</td>\n",
       "      <td>CHEMBL3092468</td>\n",
       "      <td>1.0</td>\n",
       "      <td>2015.0</td>\n",
       "    </tr>\n",
       "    <tr>\n",
       "      <th>542225</th>\n",
       "      <td>CHEMBL6186</td>\n",
       "      <td>Serine/threonine-protein kinase Sgk3</td>\n",
       "      <td>CHEMBL3745885</td>\n",
       "      <td>-1.0</td>\n",
       "      <td>2016.0</td>\n",
       "    </tr>\n",
       "    <tr>\n",
       "      <th>542226</th>\n",
       "      <td>CHEMBL6195</td>\n",
       "      <td>Ubiquitin carboxyl-terminal hydrolase isozyme L3</td>\n",
       "      <td>CHEMBL1190585</td>\n",
       "      <td>-1.0</td>\n",
       "      <td>2007.0</td>\n",
       "    </tr>\n",
       "    <tr>\n",
       "      <th>542227</th>\n",
       "      <td>CHEMBL6195</td>\n",
       "      <td>Ubiquitin carboxyl-terminal hydrolase isozyme L3</td>\n",
       "      <td>CHEMBL1241028</td>\n",
       "      <td>1.0</td>\n",
       "      <td>2007.0</td>\n",
       "    </tr>\n",
       "    <tr>\n",
       "      <th>542228</th>\n",
       "      <td>CHEMBL6195</td>\n",
       "      <td>Ubiquitin carboxyl-terminal hydrolase isozyme L3</td>\n",
       "      <td>CHEMBL1241672</td>\n",
       "      <td>-1.0</td>\n",
       "      <td>2007.0</td>\n",
       "    </tr>\n",
       "    <tr>\n",
       "      <th>542229</th>\n",
       "      <td>CHEMBL6195</td>\n",
       "      <td>Ubiquitin carboxyl-terminal hydrolase isozyme L3</td>\n",
       "      <td>CHEMBL1241673</td>\n",
       "      <td>-1.0</td>\n",
       "      <td>2007.0</td>\n",
       "    </tr>\n",
       "    <tr>\n",
       "      <th>542230</th>\n",
       "      <td>CHEMBL6195</td>\n",
       "      <td>Ubiquitin carboxyl-terminal hydrolase isozyme L3</td>\n",
       "      <td>CHEMBL1241765</td>\n",
       "      <td>-1.0</td>\n",
       "      <td>2007.0</td>\n",
       "    </tr>\n",
       "    <tr>\n",
       "      <th>542231</th>\n",
       "      <td>CHEMBL6195</td>\n",
       "      <td>Ubiquitin carboxyl-terminal hydrolase isozyme L3</td>\n",
       "      <td>CHEMBL1241766</td>\n",
       "      <td>-1.0</td>\n",
       "      <td>2007.0</td>\n",
       "    </tr>\n",
       "    <tr>\n",
       "      <th>542232</th>\n",
       "      <td>CHEMBL6195</td>\n",
       "      <td>Ubiquitin carboxyl-terminal hydrolase isozyme L3</td>\n",
       "      <td>CHEMBL590</td>\n",
       "      <td>-1.0</td>\n",
       "      <td>2007.0</td>\n",
       "    </tr>\n",
       "  </tbody>\n",
       "</table>\n",
       "<p>542233 rows × 5 columns</p>\n",
       "</div>"
      ],
      "text/plain": [
       "       TARGET_CHEMBLID                                         PREF_NAME  \\\n",
       "0        CHEMBL1075092                  Glycine receptor subunit alpha-3   \n",
       "1        CHEMBL1075092                  Glycine receptor subunit alpha-3   \n",
       "2        CHEMBL1075092                  Glycine receptor subunit alpha-3   \n",
       "3        CHEMBL1075092                  Glycine receptor subunit alpha-3   \n",
       "4        CHEMBL1075092                  Glycine receptor subunit alpha-3   \n",
       "5        CHEMBL1075092                  Glycine receptor subunit alpha-3   \n",
       "6        CHEMBL1075092                  Glycine receptor subunit alpha-3   \n",
       "7        CHEMBL1075097                                        Arginase-1   \n",
       "8        CHEMBL1075101                     G-protein coupled receptor 81   \n",
       "9        CHEMBL1075101                     G-protein coupled receptor 81   \n",
       "10       CHEMBL1075101                     G-protein coupled receptor 81   \n",
       "11       CHEMBL1075101                     G-protein coupled receptor 81   \n",
       "12       CHEMBL1075101                     G-protein coupled receptor 81   \n",
       "13       CHEMBL1075101                     G-protein coupled receptor 81   \n",
       "14       CHEMBL1075101                     G-protein coupled receptor 81   \n",
       "15       CHEMBL1075101                     G-protein coupled receptor 81   \n",
       "16       CHEMBL1075101                     G-protein coupled receptor 81   \n",
       "17       CHEMBL1075101                     G-protein coupled receptor 81   \n",
       "18       CHEMBL1075101                     G-protein coupled receptor 81   \n",
       "19       CHEMBL1075101                     G-protein coupled receptor 81   \n",
       "20       CHEMBL1075101                     G-protein coupled receptor 81   \n",
       "21       CHEMBL1075101                     G-protein coupled receptor 81   \n",
       "22       CHEMBL1075101                     G-protein coupled receptor 81   \n",
       "23       CHEMBL1075101                     G-protein coupled receptor 81   \n",
       "24       CHEMBL1075101                     G-protein coupled receptor 81   \n",
       "25       CHEMBL1075101                     G-protein coupled receptor 81   \n",
       "26       CHEMBL1075101                     G-protein coupled receptor 81   \n",
       "27       CHEMBL1075101                     G-protein coupled receptor 81   \n",
       "28       CHEMBL1075101                     G-protein coupled receptor 81   \n",
       "29       CHEMBL1075101                     G-protein coupled receptor 81   \n",
       "...                ...                                               ...   \n",
       "542203      CHEMBL6175                    Lysine-specific demethylase 4C   \n",
       "542204      CHEMBL6175                    Lysine-specific demethylase 4C   \n",
       "542205      CHEMBL6175                    Lysine-specific demethylase 4C   \n",
       "542206      CHEMBL6175                    Lysine-specific demethylase 4C   \n",
       "542207      CHEMBL6175                    Lysine-specific demethylase 4C   \n",
       "542208      CHEMBL6175                    Lysine-specific demethylase 4C   \n",
       "542209      CHEMBL6175                    Lysine-specific demethylase 4C   \n",
       "542210      CHEMBL6175                    Lysine-specific demethylase 4C   \n",
       "542211      CHEMBL6175                    Lysine-specific demethylase 4C   \n",
       "542212      CHEMBL6175                    Lysine-specific demethylase 4C   \n",
       "542213      CHEMBL6175                    Lysine-specific demethylase 4C   \n",
       "542214      CHEMBL6175                    Lysine-specific demethylase 4C   \n",
       "542215      CHEMBL6175                    Lysine-specific demethylase 4C   \n",
       "542216      CHEMBL6175                    Lysine-specific demethylase 4C   \n",
       "542217      CHEMBL6177                                        NAD kinase   \n",
       "542218      CHEMBL6177                                        NAD kinase   \n",
       "542219      CHEMBL6177                                        NAD kinase   \n",
       "542220      CHEMBL6177                                        NAD kinase   \n",
       "542221      CHEMBL6177                                        NAD kinase   \n",
       "542222      CHEMBL6186              Serine/threonine-protein kinase Sgk3   \n",
       "542223      CHEMBL6186              Serine/threonine-protein kinase Sgk3   \n",
       "542224      CHEMBL6186              Serine/threonine-protein kinase Sgk3   \n",
       "542225      CHEMBL6186              Serine/threonine-protein kinase Sgk3   \n",
       "542226      CHEMBL6195  Ubiquitin carboxyl-terminal hydrolase isozyme L3   \n",
       "542227      CHEMBL6195  Ubiquitin carboxyl-terminal hydrolase isozyme L3   \n",
       "542228      CHEMBL6195  Ubiquitin carboxyl-terminal hydrolase isozyme L3   \n",
       "542229      CHEMBL6195  Ubiquitin carboxyl-terminal hydrolase isozyme L3   \n",
       "542230      CHEMBL6195  Ubiquitin carboxyl-terminal hydrolase isozyme L3   \n",
       "542231      CHEMBL6195  Ubiquitin carboxyl-terminal hydrolase isozyme L3   \n",
       "542232      CHEMBL6195  Ubiquitin carboxyl-terminal hydrolase isozyme L3   \n",
       "\n",
       "        CMPD_CHEMBLID  CLF_LABEL    YEAR  \n",
       "0       CHEMBL1092618       -1.0  2010.0  \n",
       "1       CHEMBL1092619       -1.0  2010.0  \n",
       "2       CHEMBL1093582       -1.0  2010.0  \n",
       "3       CHEMBL1093848       -1.0  2010.0  \n",
       "4       CHEMBL2398350       -1.0  2013.0  \n",
       "5       CHEMBL2398352       -1.0  2013.0  \n",
       "6        CHEMBL464651        1.0  2010.0  \n",
       "7       CHEMBL1099169        1.0  2010.0  \n",
       "8       CHEMBL3714817        1.0     NaN  \n",
       "9       CHEMBL3714879        1.0     NaN  \n",
       "10      CHEMBL3714885        1.0     NaN  \n",
       "11      CHEMBL3714909        1.0     NaN  \n",
       "12      CHEMBL3714960        1.0     NaN  \n",
       "13      CHEMBL3714970        1.0     NaN  \n",
       "14      CHEMBL3715004        1.0     NaN  \n",
       "15      CHEMBL3715017        1.0     NaN  \n",
       "16      CHEMBL3715077        1.0     NaN  \n",
       "17      CHEMBL3715155        1.0     NaN  \n",
       "18      CHEMBL3715174        1.0     NaN  \n",
       "19      CHEMBL3715218        1.0     NaN  \n",
       "20      CHEMBL3715359        1.0     NaN  \n",
       "21      CHEMBL3715361        1.0     NaN  \n",
       "22      CHEMBL3715375        1.0     NaN  \n",
       "23      CHEMBL3715394        1.0     NaN  \n",
       "24      CHEMBL3715478        1.0     NaN  \n",
       "25      CHEMBL3715536        1.0     NaN  \n",
       "26      CHEMBL3715558        1.0     NaN  \n",
       "27      CHEMBL3715572        1.0     NaN  \n",
       "28      CHEMBL3715577        1.0     NaN  \n",
       "29      CHEMBL3715599        1.0     NaN  \n",
       "...               ...        ...     ...  \n",
       "542203  CHEMBL3786862        1.0  2016.0  \n",
       "542204  CHEMBL3786952        1.0  2016.0  \n",
       "542205  CHEMBL3786963        1.0  2016.0  \n",
       "542206  CHEMBL3787020        1.0  2016.0  \n",
       "542207  CHEMBL3787044        1.0  2016.0  \n",
       "542208  CHEMBL3787133        1.0  2016.0  \n",
       "542209  CHEMBL3787193        1.0  2016.0  \n",
       "542210  CHEMBL3787438        1.0  2016.0  \n",
       "542211  CHEMBL3787516        1.0  2016.0  \n",
       "542212  CHEMBL3787534        1.0  2016.0  \n",
       "542213  CHEMBL3787548        1.0  2016.0  \n",
       "542214  CHEMBL3787556        1.0  2016.0  \n",
       "542215  CHEMBL3787664        1.0  2016.0  \n",
       "542216  CHEMBL3787669        1.0  2016.0  \n",
       "542217   CHEMBL233434       -1.0  2008.0  \n",
       "542218   CHEMBL538665       -1.0  2009.0  \n",
       "542219   CHEMBL560315        1.0  2009.0  \n",
       "542220   CHEMBL561654       -1.0  2009.0  \n",
       "542221   CHEMBL562056        1.0  2009.0  \n",
       "542222  CHEMBL2333365       -1.0  2013.0  \n",
       "542223  CHEMBL3092460       -1.0  2015.0  \n",
       "542224  CHEMBL3092468        1.0  2015.0  \n",
       "542225  CHEMBL3745885       -1.0  2016.0  \n",
       "542226  CHEMBL1190585       -1.0  2007.0  \n",
       "542227  CHEMBL1241028        1.0  2007.0  \n",
       "542228  CHEMBL1241672       -1.0  2007.0  \n",
       "542229  CHEMBL1241673       -1.0  2007.0  \n",
       "542230  CHEMBL1241765       -1.0  2007.0  \n",
       "542231  CHEMBL1241766       -1.0  2007.0  \n",
       "542232      CHEMBL590       -1.0  2007.0  \n",
       "\n",
       "[542233 rows x 5 columns]"
      ]
     },
     "execution_count": 131,
     "metadata": {},
     "output_type": "execute_result"
    }
   ],
   "source": [
    "# group\n",
    "grouped = inhibitor.groupby(by=[\"TARGET_CHEMBLID\", \"PREF_NAME\", \"CMPD_CHEMBLID\"], as_index=False)\n",
    "# judge one molecule's label by the average label\n",
    "clf_label = grouped[[\"CLF_LABEL\", \"YEAR\"]].mean()\n",
    "clf_label"
   ]
  },
  {
   "cell_type": "code",
   "execution_count": 105,
   "metadata": {
    "collapsed": true
   },
   "outputs": [],
   "source": [
    "clf_label.to_csv(txt_dir + \"/inhibitor_clf_label.csv\")"
   ]
  },
  {
   "cell_type": "code",
   "execution_count": null,
   "metadata": {
    "collapsed": true
   },
   "outputs": [],
   "source": []
  },
  {
   "cell_type": "code",
   "execution_count": 144,
   "metadata": {
    "collapsed": true
   },
   "outputs": [],
   "source": [
    "cancer_approved_target = [\"CHEMBL279\", \"CHEMBL203\", \"CHEMBL333\", \"CHEMBL325\", \"CHEMBL267\", \"CHEMBL2842\"]\n",
    "cancer_clinical_target = [\"CHEMBL340\", \"CHEMBL4005\", \"CHEMBL332\"]"
   ]
  },
  {
   "cell_type": "code",
   "execution_count": 158,
   "metadata": {
    "collapsed": false
   },
   "outputs": [],
   "source": [
    "for target in cancer_approved_target + cancer_clinical_target:\n",
    "    df = clf_label[clf_label[\"TARGET_CHEMBLID\"] == target]\n",
    "    df.to_csv(txt_dir + \"/%s_clf_label.csv\" % target, index=False)"
   ]
  },
  {
   "cell_type": "code",
   "execution_count": null,
   "metadata": {
    "collapsed": true
   },
   "outputs": [],
   "source": []
  }
 ],
 "metadata": {
  "kernelspec": {
   "display_name": "Python 2",
   "language": "python",
   "name": "python2"
  },
  "language_info": {
   "codemirror_mode": {
    "name": "ipython",
    "version": 2
   },
   "file_extension": ".py",
   "mimetype": "text/x-python",
   "name": "python",
   "nbconvert_exporter": "python",
   "pygments_lexer": "ipython2",
   "version": "2.7.6"
  }
 },
 "nbformat": 4,
 "nbformat_minor": 1
}
