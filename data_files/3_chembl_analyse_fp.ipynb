{
 "cells": [
  {
   "cell_type": "code",
   "execution_count": 1,
   "metadata": {},
   "outputs": [],
   "source": [
    "import json\n",
    "import numpy as np\n",
    "import pandas as pd\n",
    "from scipy import sparse\n",
    "from collections import Counter\n",
    "from collections import defaultdict\n",
    "from matplotlib import pyplot as plt\n",
    "%matplotlib inline"
   ]
  },
  {
   "cell_type": "markdown",
   "metadata": {},
   "source": [
    "## calculate count for apfp"
   ]
  },
  {
   "cell_type": "code",
   "execution_count": 2,
   "metadata": {},
   "outputs": [],
   "source": [
    "pns_apfp = pd.Series.from_csv(\"fp_files/pns_apfp.csv\", sep=\"\\t\", header=0) \n",
    "\n",
    "pns_apfp_counter = Counter()\n",
    "for apfp_str in pns_apfp:\n",
    "    apfp = json.loads(apfp_str)\n",
    "    pns_apfp_counter.update(apfp.keys())\n",
    "    \n",
    "pns_apfp_count = pd.Series(pns_apfp_counter)\n",
    "pns_apfp_count.index.name = \"APFP\"\n",
    "pns_apfp_count.name = \"COUNT\"\n",
    "pns_apfp_count.to_csv(\"fp_files/pns_apfp_count.csv\", header=True)"
   ]
  },
  {
   "cell_type": "code",
   "execution_count": null,
   "metadata": {
    "collapsed": true
   },
   "outputs": [],
   "source": []
  },
  {
   "cell_type": "code",
   "execution_count": 3,
   "metadata": {
    "collapsed": true
   },
   "outputs": [],
   "source": [
    "cancer_approved_target = [\"CHEMBL279\", \"CHEMBL203\", \"CHEMBL333\", \"CHEMBL325\", \"CHEMBL267\", \"CHEMBL2842\"]\n",
    "cancer_clinical_target = [\"CHEMBL340\", \"CHEMBL4005\", \"CHEMBL332\"]\n",
    "target_list = cancer_approved_target + cancer_clinical_target"
   ]
  },
  {
   "cell_type": "code",
   "execution_count": 4,
   "metadata": {
    "collapsed": true
   },
   "outputs": [],
   "source": [
    "inh_apfp = pd.Series.from_csv(\"fp_files/inhibitor_apfp.csv\", sep=\"\\t\", header=0)\n",
    "\n",
    "for target in target_list:\n",
    "    clf_label = pd.read_csv(\"chembl_source/%s_clf_label.csv\" % target)\n",
    "    target_apfp = inh_apfp.loc[clf_label[\"CMPD_CHEMBLID\"].values]\n",
    "    target_apfp_counter = Counter()\n",
    "    for apfp_str in target_apfp:\n",
    "        apfp = json.loads(apfp_str)\n",
    "        target_apfp_counter.update(apfp.keys())\n",
    "    target_apfp_count = pd.Series(target_apfp_counter)\n",
    "    target_apfp_count.index.name = \"APFP\"\n",
    "    target_apfp_count.name = \"COUNT\"\n",
    "    target_apfp_count.to_csv(\"fp_files/%s_apfp_count.csv\" % target, header=True)"
   ]
  },
  {
   "cell_type": "markdown",
   "metadata": {
    "collapsed": true
   },
   "source": [
    "## pick a threshold for minimun count of apfp"
   ]
  },
  {
   "cell_type": "code",
   "execution_count": 5,
   "metadata": {
    "collapsed": true
   },
   "outputs": [],
   "source": [
    "cancer_approved_target = [\"CHEMBL279\", \"CHEMBL203\", \"CHEMBL333\", \"CHEMBL325\", \"CHEMBL267\", \"CHEMBL2842\"]\n",
    "cancer_clinical_target = [\"CHEMBL340\", \"CHEMBL4005\", \"CHEMBL332\"]\n",
    "target_list = cancer_approved_target + cancer_clinical_target"
   ]
  },
  {
   "cell_type": "code",
   "execution_count": 6,
   "metadata": {
    "collapsed": true
   },
   "outputs": [],
   "source": [
    "inh_apfp = pd.Series.from_csv(\"fp_files/inhibitor_apfp.csv\", sep=\"\\t\", header=0)"
   ]
  },
  {
   "cell_type": "code",
   "execution_count": 7,
   "metadata": {
    "collapsed": true
   },
   "outputs": [],
   "source": [
    "pns_count = pd.Series.from_csv(\"fp_files/pns_apfp_count.csv\", header=0)"
   ]
  },
  {
   "cell_type": "code",
   "execution_count": 8,
   "metadata": {
    "collapsed": true
   },
   "outputs": [],
   "source": [
    "def sparse_features(fps_series, target_apfp_picked):\n",
    "    columns_dict = defaultdict(lambda : len(target_apfp_picked))\n",
    "    for i, apfp in enumerate(target_apfp_picked):\n",
    "        columns_dict[apfp] = i\n",
    "    data = []\n",
    "    indices = []\n",
    "    indptr = [0]\n",
    "    for _, fps in fps_series.iteritems():\n",
    "        n = indptr[-1]\n",
    "        for k, v in fps.items():\n",
    "            indices.append(columns_dict[k])\n",
    "            data.append(v)\n",
    "            n += 1\n",
    "        indptr.append(n)\n",
    "    a = sparse.csr_matrix((np.array(data), indices, indptr), shape=(len(fps_series), len(target_apfp_picked) + 1))\n",
    "    return a"
   ]
  },
  {
   "cell_type": "code",
   "execution_count": 9,
   "metadata": {
    "collapsed": true
   },
   "outputs": [],
   "source": [
    "target = \"CHEMBL279\""
   ]
  },
  {
   "cell_type": "code",
   "execution_count": 10,
   "metadata": {
    "collapsed": true
   },
   "outputs": [],
   "source": [
    "target_clf_label = pd.read_csv(\"chembl_source/%s_clf_label.csv\" % target)\n",
    "target_apfp_str = inh_apfp.loc[target_clf_label[\"CMPD_CHEMBLID\"].values]\n",
    "target_apfp = target_apfp_str.apply(json.loads)"
   ]
  },
  {
   "cell_type": "code",
   "execution_count": 20,
   "metadata": {
    "collapsed": true
   },
   "outputs": [],
   "source": [
    "target_count = pd.Series.from_csv(\"fp_files/%s_apfp_count.csv\" % target, header=0)"
   ]
  },
  {
   "cell_type": "code",
   "execution_count": null,
   "metadata": {
    "collapsed": true
   },
   "outputs": [],
   "source": []
  },
  {
   "cell_type": "code",
   "execution_count": 22,
   "metadata": {
    "collapsed": true
   },
   "outputs": [],
   "source": [
    "count_threshold = 50"
   ]
  },
  {
   "cell_type": "code",
   "execution_count": 24,
   "metadata": {
    "scrolled": true
   },
   "outputs": [
    {
     "name": "stdout",
     "output_type": "stream",
     "text": [
      "10\n",
      "(21160,) 11504\n",
      "CHEMBL279 168\n",
      "0.9 52006.0\n",
      "0.95 11212.0\n",
      "0.99 149.0\n",
      "('CHEMBL511563', 1.0) ('CHEMBL502351', -1.0)\n",
      "\n",
      "\n",
      "30\n",
      "(21160,) 8803\n",
      "CHEMBL279 161\n",
      "0.9 51948.0\n",
      "0.95 11216.0\n",
      "0.99 147.0\n",
      "('CHEMBL511563', 1.0) ('CHEMBL502351', -1.0)\n",
      "\n",
      "\n",
      "50\n",
      "(21160,) 7661\n",
      "CHEMBL279 178\n",
      "0.9 52027.0\n",
      "0.95 11238.0\n",
      "0.99 147.0\n",
      "('CHEMBL511563', 1.0) ('CHEMBL502351', -1.0)\n",
      "\n",
      "\n",
      "70\n",
      "(21160,) 6916\n",
      "CHEMBL279 158\n",
      "0.9 52269.0\n",
      "0.95 11286.0\n",
      "0.99 148.0\n",
      "('CHEMBL511563', 1.0) ('CHEMBL502351', -1.0)\n",
      "\n",
      "\n",
      "90\n",
      "(21160,) 6363\n",
      "CHEMBL279 152\n",
      "0.9 52449.0\n",
      "0.95 11347.0\n",
      "0.99 148.0\n",
      "('CHEMBL511563', 1.0) ('CHEMBL502351', -1.0)\n",
      "\n",
      "\n",
      "110\n",
      "(21160,) 5927\n",
      "CHEMBL279 148\n",
      "0.9 52492.0\n",
      "0.95 11352.0\n",
      "0.99 149.0\n",
      "('CHEMBL511563', 1.0) ('CHEMBL502351', -1.0)\n",
      "\n",
      "\n",
      "130\n",
      "(21160,) 5583\n",
      "CHEMBL279 145\n",
      "0.9 52548.0\n",
      "0.95 11373.0\n",
      "0.99 152.0\n",
      "('CHEMBL511563', 1.0) ('CHEMBL502351', -1.0)\n",
      "\n",
      "\n",
      "150\n",
      "(21160,) 5310\n",
      "CHEMBL279 141\n",
      "0.9 52617.0\n",
      "0.95 11384.0\n",
      "0.99 152.0\n",
      "('CHEMBL511563', 1.0) ('CHEMBL502351', -1.0)\n",
      "\n",
      "\n",
      "170\n",
      "(21160,) 5093\n",
      "CHEMBL279 126\n",
      "0.9 52722.0\n",
      "0.95 11433.0\n",
      "0.99 152.0\n",
      "('CHEMBL511563', 1.0) ('CHEMBL502351', -1.0)\n",
      "\n",
      "\n",
      "190\n",
      "(21160,) 4893\n",
      "CHEMBL279 117\n",
      "0.9 52875.0\n",
      "0.95 11479.0\n",
      "0.99 157.0\n",
      "('CHEMBL511563', 1.0) ('CHEMBL502351', -1.0)\n",
      "\n",
      "\n"
     ]
    }
   ],
   "source": [
    "for count_threshold in range(10, 200, 20):\n",
    "    print count_threshold\n",
    "    pns_m = pns_count > count_threshold\n",
    "    print pns_m.shape, pns_m.sum()\n",
    "\n",
    "    count = target_count.add(pns_count, fill_value=0)\n",
    "    m = count > count_threshold\n",
    "    picked = count.loc[m]\n",
    "    print target, picked.shape[0] - pns_m.sum()\n",
    "    target_apfp_picked = picked.index.astype(str)\n",
    "\n",
    "    a = sparse_features(target_apfp, target_apfp_picked)\n",
    "\n",
    "    aa = a.toarray()[:, :-1]\n",
    "\n",
    "    b = np.corrcoef(aa)\n",
    "\n",
    "    c = (abs(b) > 0.9).astype(int) - np.eye(a.shape[0], dtype=int)\n",
    "    print 0.9, c.sum() / 2.0\n",
    "    c = (abs(b) > 0.95).astype(int) - np.eye(a.shape[0], dtype=int)\n",
    "    print 0.95, c.sum() / 2.0\n",
    "    c = (abs(b) > 0.99).astype(int) - np.eye(a.shape[0], dtype=int)\n",
    "    print 0.99, c.sum() / 2.0\n",
    "    c = (abs(b) > 0.999999).astype(int) - np.eye(a.shape[0], dtype=int)\n",
    "    \n",
    "    id_list = []\n",
    "    for i, j in zip(*c.nonzero()):\n",
    "        if i <= j:\n",
    "            continue\n",
    "        li = target_clf_label.iloc[i][\"CLF_LABEL\"]\n",
    "        lj = target_clf_label.iloc[j][\"CLF_LABEL\"]\n",
    "        if (li>0) != (lj>0):\n",
    "            idi = target_clf_label.iloc[i][\"CMPD_CHEMBLID\"]\n",
    "            idj = target_clf_label.iloc[j][\"CMPD_CHEMBLID\"]\n",
    "            id_list.append(idi)\n",
    "            id_list.append(idj)\n",
    "            print (idi, li), (idj, lj)\n",
    "            print \"\\n\""
   ]
  },
  {
   "cell_type": "markdown",
   "metadata": {
    "collapsed": true
   },
   "source": [
    "## check molecules' collision "
   ]
  },
  {
   "cell_type": "code",
   "execution_count": 25,
   "metadata": {
    "collapsed": true
   },
   "outputs": [],
   "source": [
    "from rdkit import Chem\n",
    "from rdkit.Chem import Draw\n",
    "from rdkit.Chem.Draw import IPythonConsole"
   ]
  },
  {
   "cell_type": "code",
   "execution_count": 28,
   "metadata": {},
   "outputs": [],
   "source": [
    "inh_smi = pd.Series.from_csv(\"structure_files/inhibitor_smiles.csv\", header=0)"
   ]
  },
  {
   "cell_type": "code",
   "execution_count": 29,
   "metadata": {},
   "outputs": [],
   "source": [
    "ms = [Chem.MolFromSmiles(inh_smi.loc[id_]) for id_ in id_list]"
   ]
  },
  {
   "cell_type": "code",
   "execution_count": 30,
   "metadata": {},
   "outputs": [
    {
     "data": {
      "image/png": "[encoded data removed]",
      "text/plain": [
       "<PIL.Image.Image image mode=RGB size=400x200 at 0x7FA92831B1B8>"
      ]
     },
     "execution_count": 30,
     "metadata": {},
     "output_type": "execute_result"
    }
   ],
   "source": [
    "Draw.MolsToGridImage(ms, molsPerRow=2)"
   ]
  },
  {
   "cell_type": "code",
   "execution_count": null,
   "metadata": {
    "collapsed": true
   },
   "outputs": [],
   "source": []
  },
  {
   "cell_type": "code",
   "execution_count": null,
   "metadata": {
    "collapsed": true
   },
   "outputs": [],
   "source": []
  }
 ],
 "metadata": {
  "kernelspec": {
   "display_name": "Python 2",
   "language": "python",
   "name": "python2"
  },
  "language_info": {
   "codemirror_mode": {
    "name": "ipython",
    "version": 2
   },
   "file_extension": ".py",
   "mimetype": "text/x-python",
   "name": "python",
   "nbconvert_exporter": "python",
   "pygments_lexer": "ipython2",
   "version": "2.7.6"
  }
 },
 "nbformat": 4,
 "nbformat_minor": 1
}
